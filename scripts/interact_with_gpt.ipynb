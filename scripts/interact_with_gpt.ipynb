{
 "cells": [
  {
   "cell_type": "markdown",
   "metadata": {},
   "source": [
    "### Part 1 - Test prompts"
   ]
  },
  {
   "cell_type": "code",
   "execution_count": 1,
   "metadata": {},
   "outputs": [],
   "source": [
    "import json\n",
    "from tqdm import tqdm\n",
    "from openai import OpenAI"
   ]
  },
  {
   "cell_type": "code",
   "execution_count": 3,
   "metadata": {},
   "outputs": [],
   "source": [
    "# Generate prompts based on medical profession speciality x medical domain\n",
    "\n",
    "content_1 = \"You are an assistant responsible for creating prompts that healthcare workers would ask a medical AI chatbot.\"\n",
    "prompt_1 = f'''Generate a prompt that a Physician specializing in Allergy and Immunology might ask an AI chatbot about the Urinary System regarding a practical issue they are facing with a patient.\n",
    "Only include the prompt from the Physician specializing in Allergy and Immunology about the Urinary System in your response, with no additional text.\n",
    "'''\n",
    "# TODO: Maybe add examples\n",
    "# Good example: Can you assist in determining if there is a potential link between recurrent urinary tract infections and an underlying immunodeficiency in a patient, and what specific immunological tests should be considered for further investigation?\n",
    "\n",
    "\n",
    "# Generate prompts based on medical AI task\n",
    "\n",
    "# store medical AI tasks in a list\n",
    "medical_ai_tasks_file = \"../results/medical_ai_tasks.json\"\n",
    "with open(medical_ai_tasks_file, 'r') as file:\n",
    "    medical_ai_tasks = json.load(file)  # Load JSON data from file\n",
    "test_task = medical_ai_tasks[6]\n",
    "\n",
    "# store subtopics in a list\n",
    "subtopics_file = \"../results/medical_subtopics.json\"\n",
    "with open(subtopics_file, 'r') as file:\n",
    "    subtopics_data = json.load(file)  # Load JSON data from file\n",
    "\n",
    "# Extract subtopics\n",
    "subtopics = []\n",
    "for item in subtopics_data:\n",
    "    subtopics.extend(item['subtopic'])  # Add each subtopic list to the main list\n",
    "test_subtopic = subtopics[25]\n",
    "\n",
    "content_2 = \"You are an assistant responsible for creating prompts that healthcare workers would ask a medical AI chatbot.\"\n",
    "prompt_2 = f'''Generate a prompt that a physician might ask an AI chatbot when tasked with {test_task[\"task\"]} in the context of {test_subtopic} in the medical field.\n",
    "{test_task[\"task\"]} is described as: {test_task[\"description\"]}\n",
    "To create a realistic prompt, follow these additional instructions: {test_task[\"additional_instruction\"]}\n",
    "Only include the generated prompt, adding extra details only if specified. Focus solely on a realistic prompt a physician might ask a medical AI chatbot.\n",
    "'''"
   ]
  },
  {
   "cell_type": "code",
   "execution_count": 4,
   "metadata": {},
   "outputs": [
    {
     "name": "stdout",
     "output_type": "stream",
     "text": [
      "Send prompt to GPT:\n",
      "#########\n",
      "Generate a prompt that a physician might ask an AI chatbot when tasked with Clinical Documentation in the context of Endocrine Pathophysiology in the medical field.\n",
      "Clinical Documentation is described as: Transcribing notes of a healthcare worker.\n",
      "To create a realistic prompt, follow these additional instructions: Generate notes that a healthcare worker would write during an anamnesis. The healthcare worker would then want these notes transcribed for inclusion in an official medical record.\n",
      "Only include the generated prompt, adding extra details only if specified. Focus solely on a realistic prompt a physician might ask a medical AI chatbot.\n",
      "\n",
      "########\n",
      "Receiving responses from GPT...\n",
      "\"Please transcribe the following anamnesis notes for the patient's medical record: The patient is a 52-year-old female presenting with fatigue, weight gain, and cold intolerance over the past six months. She reports minimal hair loss and changes in skin texture. Her family history is significant for thyroid disease. Notable lab results include elevated TSH and low free T4 levels. Current medications include levothyroxine. Please organize these details into the structured format required for clinical documentation.\"\n"
     ]
    }
   ],
   "source": [
    "# Test version of interacting with the openai API\n",
    "# Generates only 1 output and prints it\n",
    "\n",
    "path_to_api_key: str = \"../API_KEY.txt\"\n",
    "my_api_key = open(path_to_api_key, 'r').read()\n",
    "client = OpenAI(api_key=my_api_key)\n",
    "gpt_model: str = \"gpt-4o\"\n",
    "content = content_2\n",
    "prompt = prompt_2\n",
    "\n",
    "\n",
    "print(\"Send prompt to GPT:\")\n",
    "print(\"#########\")\n",
    "print(prompt)\n",
    "print(\"########\")\n",
    "\n",
    "completion = client.chat.completions.create(\n",
    "    model= gpt_model,\n",
    "    messages=[\n",
    "        {\"role\": \"system\", \"content\": content},\n",
    "        {\n",
    "            \"role\": \"user\",\n",
    "            \"content\": f\"{prompt}\"\n",
    "        }\n",
    "    ]\n",
    ")\n",
    "print(\"Receiving responses from GPT...\")\n",
    "print(completion.choices[0].message.content)"
   ]
  },
  {
   "cell_type": "markdown",
   "metadata": {},
   "source": [
    "### Part 2 - Generate list of topics"
   ]
  },
  {
   "cell_type": "code",
   "execution_count": null,
   "metadata": {},
   "outputs": [],
   "source": [
    "# Helper function to get output in desired .json format\n",
    "\n",
    "def get_desired_format(topic):\n",
    "    return f'''The format of the output has to be the following:\n",
    "    {{\n",
    "        \"domain\": {topic},\n",
    "        \"subtopic\": [\n",
    "          \"subtopic_1,\n",
    "          \"subtopic_2,\n",
    "          \"subtopic_3\n",
    "        ]\n",
    "    }}\n",
    "\n",
    "    Here are some examples where we have a medical professions and then a list of specialities:\n",
    "\n",
    "    Example 1:\n",
    "\n",
    "    {{\n",
    "        \"profession\": \"Pharmacist\",\n",
    "        \"specialties\": [\n",
    "          \"Clinical Pharmacy\",\n",
    "          \"Community Pharmacy\",\n",
    "          \"Consultant Pharmacy\",\n",
    "          \"Hospital Pharmacy\",\n",
    "          \"Industrial Pharmacy\",\n",
    "          \"Nuclear Pharmacy\",\n",
    "          \"Oncology Pharmacy\"\n",
    "        ]\n",
    "    }}\n",
    "\n",
    "    Example 2:\n",
    "\n",
    "    {{\n",
    "      \"profession\": \"Physical Therapist\",\n",
    "      \"specialties\": [\n",
    "        \"Cardiovascular and Pulmonary\",\n",
    "        \"Geriatric\",\n",
    "        \"Neurological\",\n",
    "        \"Orthopedic\",\n",
    "        \"Pediatric\",\n",
    "        \"Sports\",\n",
    "        \"Women's Health\"\n",
    "      ]\n",
    "    }}\n",
    "\n",
    "    Example 3:\n",
    "\n",
    "    {{\n",
    "      \"profession\": \"Occupational Therapist\",\n",
    "      \"specialties\": [\n",
    "        \"Geriatric Occupational Therapy\",\n",
    "        \"Mental Health Occupational Therapy\",\n",
    "        \"Pediatric Occupational Therapy\",\n",
    "        \"Physical Rehabilitation\",\n",
    "        \"Hand Therapy\"\n",
    "      ]\n",
    "    }}\n",
    "\n",
    "    The output you generate, has therefor to start with:\n",
    "    {{\n",
    "        \"domain\": \"{topic}\",\n",
    "        \"subtopic\": [\n",
    "        \n",
    "    '''"
   ]
  },
  {
   "cell_type": "code",
   "execution_count": null,
   "metadata": {},
   "outputs": [
    {
     "name": "stdout",
     "output_type": "stream",
     "text": [
      "Send prompts to GPT and process them\n",
      "Receiving responses from GPT...\n"
     ]
    },
    {
     "name": "stderr",
     "output_type": "stream",
     "text": [
      "100%|██████████| 49/49 [03:25<00:00,  4.19s/it]"
     ]
    },
    {
     "name": "stdout",
     "output_type": "stream",
     "text": [
      "Received all responses from GPT\n"
     ]
    },
    {
     "name": "stderr",
     "output_type": "stream",
     "text": [
      "\n"
     ]
    }
   ],
   "source": [
    "# Generate topics using openai API\n",
    "\n",
    "path_to_data: str = \"../results/medical_topics.json\"\n",
    "output_path: str = '../results/medical_subtopics.json'\n",
    "\n",
    "\n",
    "# Load JSON data from a file\n",
    "with open(path_to_data, \"r\") as f:\n",
    "    data = json.load(f)\n",
    "\n",
    "outputs = {}\n",
    "\n",
    "path_to_api_key: str = \"### UNCOMMENT TO RUN -> WILL COST MONEY###../API_KEY.txt\"\n",
    "my_api_key = open(path_to_api_key, 'r').read()\n",
    "client = OpenAI(api_key=my_api_key)\n",
    "gpt_model: str = \"gpt-4o\"\n",
    "\n",
    "print(\"Send prompts to GPT and process them\")\n",
    "print(\"Receiving responses from GPT...\")\n",
    "\n",
    "N_real = len(data)\n",
    "N_test = 0\n",
    "\n",
    "for i in tqdm(range(N_test)): # Change to N_real -> WILL COST MONEY\n",
    "    topic = data[i][\"topic\"]\n",
    "    content = \"You are an assistant to create an overview of the medical field\"\n",
    "    prompt = f'''Generate for the medical domain: {topic} 10 - 20 subtopics and/or subdomains.'''\n",
    "\n",
    "    desired_format = get_desired_format(topic)\n",
    "\n",
    "    completion = client.chat.completions.create(\n",
    "        model= gpt_model,\n",
    "        messages=[\n",
    "            {\"role\": \"system\", \"content\": content},\n",
    "            {\n",
    "                \"role\": \"user\",\n",
    "                \"content\": f\"{prompt}{desired_format}\"\n",
    "            }\n",
    "        ]\n",
    "    )\n",
    "\n",
    "    outputs[i] = completion.choices[0].message.content\n",
    "\n",
    "print(\"Received all responses from GPT\")"
   ]
  },
  {
   "cell_type": "code",
   "execution_count": null,
   "metadata": {},
   "outputs": [],
   "source": [
    "# Correct format mistakes by hand\n",
    "\n",
    "outputs[24] = '```json\\n{\\n    \"domain\": \"Radiology\",\\n    \"subtopic\": [\\n        \"Diagnostic Radiology\",\\n        \"Interventional Radiology\",\\n        \"Nuclear Medicine\",\\n        \"Pediatric Radiology\",\\n        \"Neuroradiology\",\\n        \"Breast Imaging\",\\n        \"Musculoskeletal Radiology\",\\n        \"Thoracic Imaging\",\\n        \"Abdominal Imaging\",\\n        \"Cardiovascular Radiology\",\\n        \"Emergency Radiology\",\\n        \"Oncologic Imaging\",\\n        \"Gastrointestinal Radiology\",\\n        \"Genitourinary Radiology\",\\n        \"Radiation Oncology\",\\n        \"Ultrasound\",\\n        \"Mammography\",\\n        \"Computed Tomography (CT)\",\\n        \"Magnetic Resonance Imaging (MRI)\",\\n        \"Fluoroscopy\"\\n    ]\\n}\\n```'"
   ]
  },
  {
   "cell_type": "code",
   "execution_count": 55,
   "metadata": {},
   "outputs": [],
   "source": [
    "parsed_output = []\n",
    "\n",
    "for i in range(len(data)):\n",
    "    parsed_output.append(json.loads(outputs[i].replace(\"```json\", \"\").replace(\"```\", \"\")))"
   ]
  },
  {
   "cell_type": "code",
   "execution_count": 56,
   "metadata": {},
   "outputs": [
    {
     "name": "stdout",
     "output_type": "stream",
     "text": [
      "{'domain': 'Human Anatomy and Physiology', 'subtopic': ['Cell Biology', 'Skeletal System', 'Muscular System', 'Nervous System', 'Endocrine System', 'Cardiovascular System', 'Respiratory System', 'Digestive System', 'Urinary System', 'Reproductive System', 'Integumentary System', 'Lymphatic System', 'Immune System', 'Neurophysiology', 'Exercise Physiology', 'Comparative Physiology', 'Pathophysiology', 'Developmental Biology', 'Histology', 'Biochemistry']}\n",
      "{'domain': 'Pathophysiology', 'subtopic': ['Inflammation', 'Immune Response', 'Cellular Injury and Adaptation', 'Neoplasia and Cancer Pathogenesis', 'Genetic Disorders', 'Endocrine Pathophysiology', 'Cardiovascular Pathophysiology', 'Respiratory Pathophysiology', 'Gastrointestinal Pathophysiology', 'Renal Pathophysiology', 'Hematologic Pathophysiology', 'Nervous System Pathophysiology', 'Musculoskeletal Pathophysiology', 'Liver Disease Pathophysiology', 'Infectious Disease Pathophysiology', 'Reproductive Pathophysiology', 'Pain Pathophysiology', 'Metabolic Disorders', 'Environmental Pathophysiology', 'Aging and Degenerative Diseases']}\n",
      "{'domain': 'Pharmacology', 'subtopic': ['Pharmacodynamics', 'Pharmacokinetics', 'Clinical Pharmacology', 'Toxicology', 'Pharmacogenomics', 'Neuropharmacology', 'Cardiovascular Pharmacology', 'Psychopharmacology', 'Pharmacoeconomics', 'Ethnopharmacology', 'Pharmaceutical Chemistry', 'Molecular Pharmacology', 'Pharmacovigilance', 'Herbal Pharmacology', 'Veterinary Pharmacology', 'Biopharmaceutics', 'Chemotherapy', 'Endocrine Pharmacology', 'Gastrointestinal Pharmacology', 'Infectious Disease Pharmacology']}\n",
      "{'domain': 'Immunology', 'subtopics': ['Innate Immunity', 'Adaptive Immunity', 'Immunogenetics', 'Clinical Immunology', 'Allergy and Hypersensitivity', 'Autoimmune Diseases', 'Immunodeficiency Disorders', 'Transplant Immunology', 'Tumor Immunology', 'Immunotherapy', 'Mucosal Immunology', 'Comparative Immunology', 'Developmental Immunology', 'Neuroimmunology', 'Vaccine Development', 'Infectious Disease Immunology', 'Immunotolerance', 'Antigen Processing and Presentation', 'Cytokine Biology', 'Immunopathology']}\n",
      "{'domain': 'Microbiology', 'subtopic': ['Bacteriology', 'Virology', 'Mycology', 'Parasitology', 'Immunology', 'Microbial Genetics', 'Clinical Microbiology', 'Environmental Microbiology', 'Industrial Microbiology', 'Food Microbiology', 'Aquatic Microbiology', 'Medical Microbiology', 'Pharmaceutical Microbiology', 'Microbial Ecology', 'Molecular Microbiology', 'Veterinary Microbiology', 'Applied Microbiology', 'Soil Microbiology', 'Space Microbiology', 'Microbial Pathogenesis']}\n",
      "{'domain': 'Epidemiology', 'subtopic': ['Infectious Disease Epidemiology', 'Chronic Disease Epidemiology', 'Environmental Epidemiology', 'Genetic Epidemiology', 'Nutritional Epidemiology', 'Pharmacoepidemiology', 'Social Epidemiology', 'Molecular Epidemiology', 'Cancer Epidemiology', 'Occupational Epidemiology', 'Veterinary Epidemiology', 'Cardiovascular Epidemiology', 'Maternal and Child Health Epidemiology', 'Injury Epidemiology', 'Behavioral Epidemiology', 'Field Epidemiology', 'Epidemiology of Aging', 'Epidemiology of Emerging Infectious Diseases', 'Biostatistics and Epidemiology', 'Epidemiological Methods']}\n",
      "{'domain': 'Genetics', 'subtopic': ['Molecular Genetics', 'Population Genetics', 'Clinical Genetics', 'Cancer Genetics', 'Genomic Medicine', 'Pharmacogenomics', 'Genetic Counseling', 'Epigenetics', 'Genetic Epidemiology', 'Conservation Genetics', 'Behavioral Genetics', 'Developmental Genetics', 'Gene Therapy', 'Biotechnology in Genetics', 'Comparative Genomics', 'Pediatric Genetics', 'Neurogenetics', 'Forensic Genetics', 'Agrigenomics', 'Structural Genomics']}\n",
      "{'domain': 'Medical Ethics', 'subtopic': ['Autonomy and Informed Consent', 'Beneficence and Non-Maleficence', 'Confidentiality and Privacy', 'Medical Decision-Making Capacity', 'End-of-Life Care and Advance Directives', 'Truth-Telling and Deception', 'Clinical Trials and Research Ethics', 'Resource Allocation and Fair Access', 'Professionalism and Boundaries', 'Conflicts of Interest', 'Cultural Competence and Sensitivity', 'Genetic Testing and Screening', 'Stem Cell Research and Cloning', 'Reproductive Rights and Ethics', 'Euthanasia and Physician-Assisted Dying', 'Ethical Use of Artificial Intelligence in Medicine', 'Patient Rights and Advocacy', 'Healthcare Disparities and Equity', 'Telemedicine and Digital Health Ethics', 'Transplantation Ethics']}\n",
      "{'domain': 'Biostatistics', 'subtopic': ['Descriptive Statistics', 'Inferential Statistics', 'Survival Analysis', 'Regression Analysis', 'Clinical Trials Design', 'Causal Inference', 'Nonparametric Methods', 'Bayesian Statistics', 'Longitudinal Data Analysis', 'Meta-analysis', 'Genomic and Bioinformatics Statistics', 'Epidemiological Statistics', 'Multivariate Analysis', 'Time Series Analysis', 'Biostatistical Modeling', 'Health Data Informatics', 'Statistical Machine Learning', 'Big Data Analytics in Health', 'Biostatistical Computing', 'Spatial Statistics in Public Health']}\n",
      "{'domain': 'Public Health', 'subtopic': ['Epidemiology', 'Biostatistics', 'Environmental Health', 'Health Services Administration', 'Social and Behavioral Health', 'Global Health', 'Occupational Health', 'Community Health', 'Health Policy and Management', 'Infectious Disease Control', 'Nutrition and Public Health', 'Maternal and Child Health', 'Public Health Communication', 'Chronic Disease Prevention', 'Public Health Law and Ethics', 'Health Education and Promotion', 'Public Health Informatics', 'Emergency Preparedness and Response', 'Mental Health in Public Health', 'Health Disparities and Equity']}\n",
      "{'domain': 'Nutrition and Dietetics', 'subtopic': ['Clinical Nutrition', 'Community Nutrition', 'Public Health Nutrition', 'Nutritional Epidemiology', 'Nutrigenomics', 'Pediatric Nutrition', 'Sports Nutrition', 'Geriatric Nutrition', 'Malnutrition and Undernutrition', 'Food Science', 'Dietary Supplements', 'Weight Management', 'Functional Foods', 'Vegan and Vegetarian Nutrition', 'Therapeutic Dietetics', 'Nutritional Counseling and Education', \"Women's Health Nutrition\", 'Nutritional Biochemistry', 'Eating Disorders', 'Food Safety and Regulation']}\n",
      "{'domain': 'Mental Health and Psychiatry', 'subtopic': ['Clinical Psychology', 'Child and Adolescent Psychiatry', 'Forensic Psychiatry', 'Addiction Psychiatry', 'Geriatric Psychiatry', 'Behavioral Therapy', 'Cognitive Behavioral Therapy (CBT)', 'Psychopharmacology', 'Interpersonal Therapy', 'Mood Disorders', 'Anxiety Disorders', 'Personality Disorders', 'Trauma and Stressor-related Disorders', 'Eating Disorders', 'Sleep Disorders', 'Psychosomatic Medicine', 'Psychiatric Rehabilitation', 'Telepsychiatry', 'Emergency Psychiatry']}\n",
      "{'domain': 'Pediatrics', 'subtopic': ['Neonatology', 'Pediatric Cardiology', 'Pediatric Oncology', 'Pediatric Neurology', 'Pediatric Gastroenterology', 'Pediatric Endocrinology', 'Pediatric Pulmonology', 'Pediatric Infectious Diseases', 'Pediatric Surgery', 'Pediatric Dermatology', 'Developmental and Behavioral Pediatrics', 'Adolescent Medicine', 'Pediatric Hematology', 'Pediatric Nephrology', 'Pediatric Rheumatology', 'Emergency Pediatrics', 'Pediatric Allergy and Immunology', 'Pediatric Otolaryngology', 'Pediatric Ophthalmology', 'Pediatric Critical Care']}\n",
      "{'domain': 'Geriatrics', 'subtopic': ['Geriatric Pharmacotherapy', 'Geriatric Nutrition', 'Cognitive Disorders in the Elderly', 'Chronic Disease Management', 'Falls and Mobility Disorders', 'Elderly Pain Management', 'Geriatric Cardiology', 'Geriatric Oncology', 'Geriatric Psychiatry', 'Palliative and End-of-Life Care', 'Long-Term Care and Nursing Homes', 'Elder Abuse and Neglect', 'Geriatric Rehabilitation', 'Social Issues and Aging', 'Age-Related Changes in Pharmacokinetics and Pharmacodynamics', 'Delirium and Dementia Management', 'Frailty Syndrome', 'Gerotechnology', 'Elderly Population Health Management', 'Biopsychosocial Approach to Aging']}\n",
      "{'domain': 'Obstetrics and Gynecology', 'subtopic': ['Maternal-Fetal Medicine', 'Reproductive Endocrinology and Infertility', 'Gynecologic Oncology', 'Urogynecology', 'Minimally Invasive Gynecologic Surgery', 'Obstetric Anesthesiology', 'Family Planning', 'Pelvic Pain and Reproductive Surgery', 'Fetal Surgery', 'High-risk Pregnancy Management', 'Prenatal Diagnosis and Screening', 'Contraception Technology', 'Menopause and Hormonal Disorders', 'Adolescent Gynecology', 'Sexually Transmitted Diseases Management', 'Gynecologic Ultrasonography', 'Intrapartum and Postpartum Care', 'Genetic Counseling in Pregnancy', 'Pelvic Floor Disorders', 'Menstrual Disorders and Abnormal Uterine Bleeding']}\n",
      "{'domain': 'Cardiology', 'subtopic': ['Electrophysiology', 'Interventional Cardiology', 'Heart Failure and Transplantation', 'Cardiovascular Imaging', 'Preventive Cardiology', 'Vascular Medicine', 'Pediatric Cardiology', 'Adult Congenital Heart Disease', 'Cardio-Oncology', 'Lipidology', 'Hypertension Management', 'Cardiometabolic Health', 'Cardiovascular Pharmacology', 'Cardiac Rehabilitation', 'Coronary Artery Disease', 'Valvular Heart Disease', 'Heart Rhythm Disorders', 'Cardiogenetics', 'Pulmonary Hypertension', 'Critical Care Cardiology']}\n",
      "{'domain': 'Neurology', 'subtopic': ['Clinical Neurology', 'Neurophysiology', 'Epileptology', 'Neuromuscular Medicine', 'Stroke and Cerebrovascular Diseases', 'Movement Disorders', 'Neuroimmunology and Multiple Sclerosis', 'Neurogenetics', 'Behavioral Neurology', 'Headache Medicine', 'Neuro-Oncology', 'Neurocritical Care', 'Cognitive Neurology', 'Pediatric Neurology', 'Neuroanatomy', 'Neurorehabilitation', 'Sleep Medicine', 'Autonomic Disorders', 'Neuropsychology', 'Neuroradiology']}\n",
      "{'domain': 'Oncology', 'subtopic': ['Breast Cancer', 'Lung Cancer', 'Prostate Cancer', 'Colorectal Cancer', 'Hematologic Oncology (Blood Cancers)', 'Skin Cancer (Dermato-Oncology)', 'Gynecologic Oncology', 'Pediatric Oncology', 'Radiation Oncology', 'Surgical Oncology', 'Medical Oncology', 'Head and Neck Oncology', 'Neuro-Oncology (Brain and Spinal Cancer)', 'Urologic Oncology', 'Gastrointestinal Oncology', 'Endocrine Oncology', 'Integrative Oncology', 'Oncologic Imaging', 'Oncology Nursing', 'Palliative Care in Oncology']}\n",
      "{'domain': 'Orthopedics', 'subtopic': ['Arthroplasty', 'Spine Surgery', 'Sports Medicine', 'Pediatric Orthopedics', 'Orthopedic Trauma', 'Foot and Ankle Orthopedics', 'Hand and Upper Extremity Orthopedics', 'Orthopedic Oncology', 'Shoulder and Elbow Surgery', 'Orthopedic Rehabilitation', 'Hip and Knee Reconstruction', 'Minimally Invasive Orthopedics', 'Musculoskeletal Imaging', 'Orthobiologics', 'Orthopedic Research and Education', 'Bone Health and Osteoporosis', 'Joint Replacement', 'Orthotics and Prosthetics', 'Podiatric Orthopedics', 'Rheumatology and Autoimmune Orthopedics']}\n",
      "{'domain': 'Pulmonology', 'subtopic': ['Asthma', 'Chronic Obstructive Pulmonary Disease (COPD)', 'Interstitial Lung Disease', 'Pulmonary Hypertension', 'Cystic Fibrosis', 'Pulmonary Function Testing', 'Lung Cancer', 'Sleep Disorders', 'Pediatric Pulmonology', 'Allergic Pulmonary Diseases', 'Occupational Lung Disease', 'Pleural Diseases', 'Respiratory Infections', 'Pulmonary Rehabilitation', 'Pulmonary Vascular Disease', 'Interstitial Lung Disease', 'Lung Transplantation', 'Diffuse Parenchymal Lung Disease', 'Pulmonary Embolism', 'Bronchiectasis']}\n",
      "{'domain': 'Gastroenterology', 'subtopic': ['Esophageal Disorders', 'Gastric Disorders', 'Intestinal Disorders', 'Liver Diseases', 'Pancreatic Diseases', 'Biliary Tract Diseases', 'Functional Gastrointestinal Disorders', 'Inflammatory Bowel Disease', 'Gastrointestinal Cancers', 'Gastrointestinal Endoscopy', 'Pediatric Gastroenterology', 'Hepatology', 'Advanced Endoscopic Techniques', 'Motility Disorders', 'Nutrition and Gastroenterology', 'Gastrointestinal Infections', 'Celiac Disease', 'Acid-Related Disorders', 'Irritable Bowel Syndrome', 'Obesity and Gastrointestinal Health']}\n",
      "{'domain': 'Endocrinology', 'subtopic': ['Diabetes Mellitus', 'Thyroid Disorders', 'Adrenal Disorders', 'Pituitary Disorders', 'Metabolic Bone Disease', 'Parathyroid Disorders', 'Reproductive Endocrinology', 'Obesity and Metabolic Syndrome', 'Lipid Disorders', 'Neuroendocrinology', 'Endocrine Hypertension', 'Pancreatic Endocrine Tumors', 'Endocrine Neoplasia', 'Calcium and Phosphorus Disorders', 'Hypoglycemia', 'Endocrinology of Pregnancy', 'Pediatric Endocrinology', 'Endocrine Genetics', 'Autoimmune Endocrine Disorders', 'Male and Female Hormonal Replacement Therapy']}\n",
      "{'domain': 'Infectious Diseases', 'subtopic': ['Bacterial Infections', 'Viral Infections', 'Fungal Infections', 'Parasitic Infections', 'Vector-borne Diseases', 'Zoonotic Diseases', 'Emerging Infectious Diseases', 'Antimicrobial Resistance', 'Nosocomial Infections', 'Chronic Infectious Diseases', 'Infectious Disease Epidemiology', 'Infectious Disease Prevention and Control', 'Vaccinology', 'Infectious Disease Diagnostics', 'Global Health and Infectious Diseases', 'HIV/AIDS', 'Tuberculosis', 'Hepatitis', 'COVID-19', 'Sexually Transmitted Infections']}\n",
      "{'domain': 'Dermatology', 'subtopic': ['Medical Dermatology', 'Surgical Dermatology', 'Pediatric Dermatology', 'Cosmetic Dermatology', 'Dermatopathology', 'Immunodermatology', 'Teledermatology', 'Dermatoepidemiology', 'Photodermatology', 'Trichology', 'Aesthetic Dermatology', 'Contact Dermatitis', 'Mohs Surgery', 'Cutaneous Oncology', 'Laser Dermatology', 'Eczema and Psoriasis', 'Acne and Rosacea', 'Hair and Scalp Disorders', 'Pigmentary Disorders', 'Infectious Skin Diseases']}\n",
      "{'domain': 'Radiology', 'subtopic': ['Diagnostic Radiology', 'Interventional Radiology', 'Nuclear Medicine', 'Pediatric Radiology', 'Neuroradiology', 'Breast Imaging', 'Musculoskeletal Radiology', 'Thoracic Imaging', 'Abdominal Imaging', 'Cardiovascular Radiology', 'Emergency Radiology', 'Oncologic Imaging', 'Gastrointestinal Radiology', 'Genitourinary Radiology', 'Radiation Oncology', 'Ultrasound', 'Mammography', 'Computed Tomography (CT)', 'Magnetic Resonance Imaging (MRI)', 'Fluoroscopy']}\n",
      "{'domain': 'Surgery', 'subtopic': ['General Surgery', 'Cardiothoracic Surgery', 'Neurosurgery', 'Orthopedic Surgery', 'Plastic and Reconstructive Surgery', 'Vascular Surgery', 'Pediatric Surgery', 'Otolaryngology (ENT Surgery)', 'Urological Surgery', 'Transplant Surgery', 'Colorectal Surgery', 'Trauma Surgery', 'Bariatric Surgery', 'Endocrine Surgery', 'Ophthalmic Surgery', 'Oral and Maxillofacial Surgery', 'Gynecologic Surgery', 'Dermatologic Surgery', 'Robotic Surgery', 'Oncologic Surgery']}\n",
      "{'domain': 'Emergency Medicine', 'subtopic': ['Trauma and Resuscitation', 'Emergency Medical Services (EMS)', 'Cardiac Emergencies', 'Pediatric Emergencies', 'Toxicology', 'Neurological Emergencies', 'Infectious Disease Emergencies', 'Ultrasound in Emergency Medicine', 'Orthopedic Emergencies', 'Allergic Reactions and Anaphylaxis', 'Disaster Medicine', 'Environmental Emergencies', 'Critical Care in the Emergency Department', 'Advanced Airway Management', 'Psychiatric Emergencies', 'Gastrointestinal Emergencies', 'Emergency Radiology', 'Sepsis and Septic Shock Management', 'Wound Care and Management', 'Burns and Thermal Injuries']}\n",
      "{'domain': 'Anesthesiology', 'subtopic': ['General Anesthesia', 'Regional Anesthesia', 'Local Anesthesia', 'Cardiac Anesthesia', 'Neuroanesthesia', 'Pediatric Anesthesia', 'Obstetric Anesthesia', 'Pain Management', 'Critical Care Anesthesia', 'Ambulatory Anesthesia', 'Geriatric Anesthesia', 'Trauma Anesthesia', 'Transplant Anesthesia', 'Anesthesia Safety and Quality', 'Anesthesiology Informatics', 'Anesthesia Education and Simulation', 'Perioperative Medicine', 'Anesthesia Pharmacology', 'Airway Management', 'Anesthetic Equipment and Monitoring']}\n",
      "{'domain': 'Nephrology', 'subtopic': ['Acute Kidney Injury', 'Chronic Kidney Disease', 'Glomerular Diseases', 'Hypertension', 'Dialysis and Hemodialysis', 'Peritoneal Dialysis', 'Renal Transplantation', 'Electrolyte Disorders', 'Pediatric Nephrology', 'Nephrolithiasis (Kidney Stones)', 'Diabetic Nephropathy', 'Lupus Nephritis', 'Polycystic Kidney Disease', 'Onconephrology', 'Pregnancy and Kidney Disease', 'Genetic and Inherited Kidney Disorders', 'Cardiorenal Syndrome', 'Tubular and Interstitial Diseases', 'Renovascular Disease', 'Pharmacology and Toxicology in Kidney Disease']}\n",
      "{'domain': 'Urology', 'subtopic': ['Endourology', 'Urologic Oncology', 'Pediatric Urology', 'Female Urology', 'Andrology', 'Male Infertility', 'Neurourology', 'Reconstructive Urology', 'Renal Transplantation', 'Laparoscopic and Robotic Urology', 'Urodynamics', 'Minimally Invasive Urology', 'Emergency Urology', 'Urolithiasis', 'Benign Prostatic Hyperplasia (BPH) Management', 'Vascular Surgery in Urology', 'Bladder Dysfunction', 'Sexual Health', 'Urinary Incontinence']}\n",
      "{'domain': 'Rheumatology', 'subtopic': ['Rheumatoid Arthritis', 'Osteoarthritis', 'Gout', 'Systemic Lupus Erythematosus', 'Ankylosing Spondylitis', 'Psoriatic Arthritis', \"Sjögren's Syndrome\", 'Scleroderma', 'Vasculitis', 'Juvenile Idiopathic Arthritis', 'Fibromyalgia', 'Polymyalgia Rheumatica', 'Reactive Arthritis', 'Antiphospholipid Syndrome', 'Lyme Arthritis', 'Mixed Connective Tissue Disease', 'Polymyositis', 'Dermatomyositis', \"Raynaud's Phenomenon\", 'Rheumatic Fever']}\n",
      "{'domain': 'Hematology', 'subtopic': ['Anemia', 'Hemophilia', 'Thalassemia', 'Leukemia', 'Lymphoma', 'Multiple Myeloma', 'Stem Cell Transplantation', 'Blood Coagulation Disorders', 'Platelet Disorders', 'Bone Marrow Failure Syndromes', 'Hematopoiesis', 'Sickle Cell Disease', 'Iron Metabolism Disorders', 'White Blood Cell Disorders', 'Red Blood Cell Disorders', 'Thrombosis and Anticoagulation', 'Pediatric Hematology', 'Transfusion Medicine', 'Hemoglobinopathies', 'Myelodysplastic Syndromes']}\n",
      "{'domain': 'Allergy and Immunology', 'subtopic': ['Clinical Immunology', 'Pediatric Allergy', 'Asthma Management', 'Environmental Allergies', 'Food Allergies', 'Insect Venom Allergy', 'Anaphylaxis Treatment', 'Drug Hypersensitivity', 'Immunodeficiency Disorders', 'Autoimmune Diseases', 'Seasonal Allergies', 'Contact Dermatitis', 'Allergic Rhinitis', 'Urticaria and Angioedema', 'Occupational Allergies', 'Primary Immunodeficiencies', 'Chronic Sinusitis', 'Immunotherapy', 'Hereditary Angioedema']}\n",
      "{'domain': 'Physical Medicine and Rehabilitation', 'subtopic': ['Musculoskeletal Rehabilitation', 'Neurological Rehabilitation', 'Cardiac Rehabilitation', 'Pediatric Rehabilitation', 'Geriatric Rehabilitation', 'Pain Management', 'Sports Medicine and Rehabilitation', 'Brain Injury Rehabilitation', 'Spinal Cord Injury Rehabilitation', 'Amputee Care and Prosthetic Rehabilitation', 'Rehabilitation Engineering', 'Occupational Rehabilitation', 'Stroke Rehabilitation', 'Speech and Language Rehabilitation', 'Functional Electrical Stimulation', 'Orthotics and Prosthetics', 'Adaptive Sports and Recreation', 'Inpatient Rehabilitation', 'Outpatient Rehabilitation', 'Assistive Technology']}\n",
      "{'domain': 'Occupational Health', 'subtopic': ['Workplace Safety', 'Ergonomics', 'Industrial Hygiene', 'Occupational Medicine', 'Work-related Stress Management', 'Noise Exposure Control', 'Chemical Hazard Management', 'Biological Risk Assessment', 'Occupational Disease Prevention', 'Return-to-Work Programs', 'Workplace Wellness and Health Promotion', 'Musculoskeletal Disorder Prevention', 'Occupational Health Psychology', 'Environmental Monitoring', 'Occupational Legislation and Compliance', 'Toxicology in the Workplace', 'Respiratory Protection Programs', 'Occupational Epidemiology', 'Workplace Incident Investigation', 'Behavioral Health in Occupation Settings']}\n",
      "{'domain': 'Pain Management', 'subtopic': ['Acute Pain Management', 'Chronic Pain Management', 'Pharmacological Pain Management', 'Non-Pharmacological Pain Management', 'Interventional Pain Management', 'Physical Therapy for Pain Management', 'Psychological Approaches to Pain Management', 'Multimodal Pain Management Strategies', 'Neuropathic Pain Management', 'Palliative Care Pain Management', 'Cancer Pain Management', 'Post-Surgical Pain Management', 'Pain Management in the Elderly', 'Pediatric Pain Management', 'Headache and Migraine Management', 'Musculoskeletal Pain Management', 'Behavioral Pain Management', 'Lifestyle and Pain Management', 'Technological Innovations in Pain Management', 'Integrative and Complementary Pain Management']}\n",
      "{'domain': 'Sleep Medicine', 'subtopic': ['Sleep Disorders Diagnosis', 'Insomnia', 'Sleep Apnea', 'Circadian Rhythm Disorders', 'Parasomnias', 'Restless Legs Syndrome', 'Narcolepsy', 'Sleep and Mood Disorders', 'Pediatric Sleep Medicine', 'Behavioral Sleep Medicine', 'Sleep and Respiratory Disorders', 'Sleep Technology and Polysomnography', 'Sleep Pharmacology', 'Cognitive Behavioral Therapy for Insomnia (CBT-I)', 'Sleep in Neurodegenerative Conditions', 'Shift Work Sleep Disorder', 'Jet Lag', 'Sleep Medicine in Public Health', 'Sleep and Cardiovascular Health', 'Sleep and Metabolic Disorders']}\n",
      "{'domain': 'Medical Technology and Informatics', 'subtopic': ['Electronic Health Records (EHR)', 'Telemedicine and Telehealth', 'Health Information Systems', 'Clinical Decision Support Systems', 'Medical Imaging Informatics', 'Wearable Health Technology', 'Mobile Health Applications', 'Health Data Analytics', 'Interoperability and Health Information Exchange', 'Biomedical Informatics', 'Patient Portals and Personal Health Records', 'Internet of Medical Things (IoMT)', 'Healthcare Cybersecurity', 'Robotics in Medicine', 'Artificial Intelligence and Machine Learning in Healthcare', 'Virtual and Augmented Reality in Medicine', 'Genomics and Precision Medicine Informatics', 'Healthcare Management Systems', 'Natural Language Processing in Medicine', 'Electronic Prescribing']}\n",
      "{'domain': 'Health Policy and Management', 'subtopic': ['Healthcare Economics', 'Health Systems Research', 'Public Health Policy', 'Healthcare Regulations and Compliance', 'Health Services Administration', 'Healthcare Quality and Safety', 'Health Technology Assessment', 'Healthcare Finance', 'Global Health Policy', 'Health Law and Ethics', 'Managed Care', 'Health Workforce Planning', 'Population Health Management', 'Health Informatics and Data Analytics', 'Patient-Centered Care Models', 'Health Disparities and Equity', 'Healthcare Innovation and Entrepreneurship', 'Long-term Care Policy', 'Emergency Preparedness and Response', 'Behavioral Health Policy']}\n",
      "{'domain': 'Clinical Research', 'subtopic': ['Clinical Trial Design and Methodology', 'Regulatory Affairs in Clinical Research', 'Data Management and Biostatistics', 'Ethics and Patient Safety in Clinical Trials', 'Pharmacovigilance and Drug Safety', 'Clinical Research Operations and Management', 'Good Clinical Practice (GCP) Compliance', 'Innovations in Clinical Research Technology', 'Patient Recruitment and Retention Strategies', 'Translational Research', 'Genomics and Precision Medicine in Clinical Trials', 'Outcome Research and Health Economics', 'Risk Management in Clinical Trials', 'Clinical Research Informatics', 'Clinical Endpoint Adjudication', 'Quality Assurance and Quality Control in Clinical Trials', 'Global Clinical Trials and Multinational Studies', 'Investigator-Initiated Trials', 'Phase I to Phase IV Clinical Trials', 'Real-World Evidence and Observational Studies']}\n",
      "{'domain': 'Medical Education', 'subtopic': ['Undergraduate Medical Education', 'Graduate Medical Education', 'Continuing Medical Education', 'Medical School Curriculum Development', 'Clinical Skills Training', 'Interprofessional Education', 'Simulation-Based Medical Education', 'Medical Ethics Education', 'E-Learning in Medical Education', 'Assessment and Evaluation in Medical Education', 'Global Health Education', 'Medical Student Wellness and Resilience', 'Evidence-Based Medicine Education', 'Faculty Development and Teaching Skills', 'Cultural Competency Training', 'Research in Medical Education', 'Leadership and Management Training for Medical Professionals', 'Patient Safety and Quality Improvement Education', 'Rural and Underserved Medical Education', 'Innovation and Technology in Medical Education']}\n",
      "{'domain': 'Transfusion Medicine', 'subtopic': ['Blood Component Therapy', 'Apheresis', 'Blood Donation and Collection', 'Immunohematology', 'Platelet Transfusion', 'Red Blood Cell Transfusion', 'Plasma Transfusion', 'Transfusion Reactions Management', 'Pediatric Transfusion Medicine', 'Transfusion in Critical Care', 'Massive Transfusion Protocols', 'Pre-Transfusion Testing', 'Industrial and Research Aspects of Blood Products', 'Patient Blood Management', 'Transfusion in Hematologic Malignancies', 'Intraoperative Blood Recovery', 'Safety and Regulation of Blood Products', 'Clinical and Laboratory Antibody Identification', 'Transfusion in Autoimmune Diseases', 'Stem Cell Transplantation and Transfusion Support']}\n",
      "{'domain': 'Toxicology', 'subtopic': ['Clinical Toxicology', 'Forensic Toxicology', 'Environmental Toxicology', 'Ecotoxicology', 'Biomedical Toxicology', 'Regulatory Toxicology', 'Occupational Toxicology', 'Veterinary Toxicology', 'Analytical Toxicology', 'Mechanistic Toxicology', 'Biochemical Toxicology', 'Developmental and Reproductive Toxicology', 'Neurotoxicology', 'Immunotoxicology', 'Genetic Toxicology', 'Food Toxicology', 'Chemical Toxicology', 'Pharmaceutical Toxicology', 'Aquatic Toxicology', 'Inhalation Toxicology']}\n",
      "{'domain': 'Audiology', 'subtopic': ['Diagnostic Audiology', 'Pediatric Audiology', 'Educational Audiology', 'Industrial Audiology', 'Rehabilitative Audiology', 'Vestibular Assessment and Management', 'Cochlear Implant Evaluation and Programming', 'Tinnitus Management', 'Hearing Aid Dispensing and Fitting', 'Auditory Processing Disorders', 'Geriatric Audiology', 'Counseling and Aural Rehabilitation', 'Electrophysiological Testing', 'Intraoperative Neurophysiological Monitoring', 'Tele-Audiology', 'Auditory Neuropathy Spectrum Disorder Management', 'Balance Disorders', 'Speech and Language Development in Hearing-Impaired Children', 'Hearing Conservation and Protection', 'Research Audiology']}\n",
      "{'domain': 'Speech and Language Pathology', 'subtopic': ['Articulation Disorders', 'Phonological Disorders', 'Fluency Disorders (Stuttering and Cluttering)', 'Voice Disorders', 'Resonance Disorders', 'Expressive and Receptive Language Disorders', 'Cognitive-Communication Disorders', 'Aphasia', 'Autism Spectrum Disorders', 'Augmentative and Alternative Communication (AAC)', 'Dysphagia (Swallowing Disorders)', 'Social Communication Disorders', 'Developmental Language Disorder (DLD)', 'Apraxia of Speech', 'Dysarthria', 'Auditory Processing Disorders', 'Language-Based Learning Disabilities', 'Pragmatic Language Impairments', 'Speech Sound Disorders', 'Bilingualism and Multilingualism in Speech Therapy']}\n",
      "{'domain': 'Ophthalmology', 'subtopic': ['Cataract Surgery', 'Glaucoma Management', 'Retina and Vitreous Disorders', 'Corneal Diseases', 'Uveitis and Ocular Inflammation', 'Oculoplastics and Orbital Surgery', 'Neuro-Ophthalmology', 'Pediatric Ophthalmology', 'Refractive Surgery', 'Ocular Oncology', 'Vision Rehabilitation', 'Ophthalmic Pathology', 'Contact Lens and Visual Optics', 'Low Vision Care', 'Strabismus and Amblyopia', 'Retinal Imaging and Diagnostics', 'Electroretinography and Visual Electrophysiology', 'Tele-Ophthalmology', 'Oculogenetics']}\n",
      "{'domain': 'Health Economics', 'subtopic': ['Healthcare Financing', 'Health Insurance', 'Cost-Benefit Analysis', 'Cost-Effectiveness Analysis', 'Health Technology Assessment', 'Equity in Health and Healthcare', 'Pharmaceutical Economics', 'Hospital Economics', 'Economic Evaluation of Health Programs', 'Economic Impact of Health Policies', 'Public Health Economics', 'Behavioral Economics in Health', 'Health Outcomes Research', 'Global Health Economics', 'Resource Allocation in Healthcare', 'Pricing and Reimbursement', 'Health Workforce Economics', 'Quality of Life Measurement', 'Economic Burden of Diseases', 'Demand and Supply in Healthcare Markets']}\n",
      "{'domain': 'Clinical Psychology', 'subtopic': ['Cognitive Behavioral Therapy', 'Psychodynamic Therapy', 'Humanistic Therapy', 'Child and Adolescent Psychology', 'Health Psychology', 'Neuropsychology', 'Forensic Psychology', 'Geropsychology', 'Psychopharmacology', 'Addictions Counseling', 'Eating Disorders', 'Family and Relationship Therapy', 'Trauma and PTSD Counseling', 'Anxiety Disorders', 'Depression and Mood Disorders', 'Behavioral Therapy', 'Dialectical Behavioral Therapy', 'Cultural Psychology', 'Somatic Psychology', 'Sleep Psychology']}\n",
      "{'domain': 'Preventive Medicine', 'subtopic': ['Immunization and Vaccination', 'Screening and Early Detection', 'Lifestyle and Behavioral Interventions', 'Health Education and Promotion', 'Nutritional Counseling', 'Chronic Disease Prevention and Management', 'Injury Prevention and Safety', 'Environmental and Occupational Health', 'Infectious Disease Prevention', 'Substance Use and Addiction Prevention', 'Mental Health Promotion', 'Public Health Policy and Administration', 'Community Health and Wellness Programs', 'Reproductive and Sexual Health', 'Cardiovascular Risk Management', 'Cancer Prevention', 'Global Health Initiatives', 'Age-related Preventive Services', 'Genomics and Personalized Prevention', 'Digital Health and Mobile Health Technologies']}\n"
     ]
    }
   ],
   "source": [
    "for i in range(len(parsed_output)):\n",
    "    print(parsed_output[i])"
   ]
  },
  {
   "cell_type": "code",
   "execution_count": 58,
   "metadata": {},
   "outputs": [
    {
     "name": "stdout",
     "output_type": "stream",
     "text": [
      "Data successfully written to ../results/medical_subtopics.json\n"
     ]
    }
   ],
   "source": [
    "with open(output_path, 'w') as file:\n",
    "    json.dump(parsed_output, file, indent=4)\n",
    "\n",
    "print(f\"Data successfully written to {output_path}\")"
   ]
  }
 ],
 "metadata": {
  "kernelspec": {
   "display_name": "ihlqa",
   "language": "python",
   "name": "python3"
  },
  "language_info": {
   "codemirror_mode": {
    "name": "ipython",
    "version": 3
   },
   "file_extension": ".py",
   "mimetype": "text/x-python",
   "name": "python",
   "nbconvert_exporter": "python",
   "pygments_lexer": "ipython3",
   "version": "3.12.7"
  }
 },
 "nbformat": 4,
 "nbformat_minor": 2
}
