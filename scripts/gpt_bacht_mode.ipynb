{
 "cells": [
  {
   "cell_type": "markdown",
   "metadata": {},
   "source": [
    "### Notebook to use the OpenAI API to send requests in batch mode\n",
    "\n",
    "* Cell 1: Import functions from the _interact_with_gpt_batch_version.py_ script\n",
    "* Cell 2: Load prompts and check if size is correct\n",
    "* Cell 3: Launch batch job, requires path file to batch and description of the job as attributes (WARNING: WILL COST MONEY)\n",
    "* Cell 4: Check status of job\n",
    "* Cell 5: Once the job is completed, the results can be retrieved\n",
    "* Cell 6: Get an overview of the last 20 jobs (useful if results need to be retrieved again)"
   ]
  },
  {
   "cell_type": "code",
   "execution_count": 1,
   "metadata": {},
   "outputs": [],
   "source": [
    "# Import scripts with the functions to interact with the OpenAI API\n",
    "import interact_with_gpt_batch_version as script"
   ]
  },
  {
   "cell_type": "code",
   "execution_count": 2,
   "metadata": {},
   "outputs": [
    {
     "name": "stdout",
     "output_type": "stream",
     "text": [
      "Number of entries: 20395\n"
     ]
    }
   ],
   "source": [
    "# Load file of batched prompts and check if it is the correct file:\n",
    "\n",
    "# Define the file path\n",
    "situations_name = \"batched_prompts_task_x_specialties_x_demographic_x_answerstyle_2_turn_1c\"\n",
    "file_path = \"../results/\" + situations_name + \".jsonl\"\n",
    "\n",
    "# Initialize a counter\n",
    "count = 0\n",
    "\n",
    "# Open the file and count each line\n",
    "with open(file_path, 'r') as file:\n",
    "    for line in file:\n",
    "        count += 1\n",
    "\n",
    "print(\"Number of entries:\", count)"
   ]
  },
  {
   "cell_type": "code",
   "execution_count": null,
   "metadata": {},
   "outputs": [
    {
     "name": "stdout",
     "output_type": "stream",
     "text": [
      "Connecting to openai\n",
      "Creating batch file\n",
      "Batch file successfully created\n",
      "FileObject(id='file-EG2i6SnUNTpiwJFDGmPXuy', bytes=44000437, created_at=1734032442, filename='batched_prompts_task_x_specialties_x_demographic_x_answerstyle_2_turn_1c.jsonl', object='file', purpose='batch', status='processed', status_details=None)\n",
      "Launch batch\n",
      "Batch successfully launched\n",
      "Batch id saved to ../results/batch_id.txt and batch object saved to ../results/batch.txt\n"
     ]
    }
   ],
   "source": [
    "# Launch batch job\n",
    "# Decomment line below to run job using openai API in batch mode\n",
    "# WILL COST MONEY\n",
    "# script.process_batch_by_gpt(path_to_batched_prompts = file_path, description=f\"generate prompts for multiturn interactions for medical instruction tuning, case: {situations_name}\")"
   ]
  },
  {
   "cell_type": "code",
   "execution_count": 10,
   "metadata": {},
   "outputs": [
    {
     "name": "stdout",
     "output_type": "stream",
     "text": [
      "Batch(id='batch_675b3c3bdef48190aa3f2cdad6b0a86d', completion_window='24h', created_at=1734032443, endpoint='/v1/chat/completions', input_file_id='file-EG2i6SnUNTpiwJFDGmPXuy', object='batch', status='finalizing', cancelled_at=None, cancelling_at=None, completed_at=None, error_file_id=None, errors=None, expired_at=None, expires_at=1734118843, failed_at=None, finalizing_at=1734035204, in_progress_at=1734032449, metadata={'description': 'generate prompts for multiturn interactions for medical instruction tuning, case: batched_prompts_task_x_specialties_x_demographic_x_answerstyle_2_turn_1c'}, output_file_id=None, request_counts=BatchRequestCounts(completed=20395, failed=0, total=20395))\n",
      "status = finalizing\n"
     ]
    }
   ],
   "source": [
    "# get status of batched job\n",
    "script.get_batch_status()"
   ]
  },
  {
   "cell_type": "code",
   "execution_count": 4,
   "metadata": {},
   "outputs": [],
   "source": [
    "# retrieve results\n",
    "script.retrieve_results()"
   ]
  },
  {
   "cell_type": "code",
   "execution_count": 9,
   "metadata": {},
   "outputs": [
    {
     "data": {
      "text/plain": [
       "SyncCursorPage[Batch](data=[Batch(id='batch_673c7643fccc8190af10f8324ef9557a', completion_window='24h', created_at=1732015684, endpoint='/v1/chat/completions', input_file_id='file-nuh6gkI1TBABJBUevXIKgFt0', object='batch', status='in_progress', cancelled_at=None, cancelling_at=None, completed_at=None, error_file_id=None, errors=None, expired_at=None, expires_at=1732102084, failed_at=None, finalizing_at=None, in_progress_at=1732015685, metadata={'description': 'generate multiturn interactions for medical instruction tuning tasks_x_subtopics, turn: 3 u'}, output_file_id=None, request_counts=BatchRequestCounts(completed=265, failed=0, total=3400)), Batch(id='batch_673bca3c295c8190ba241b195b408ddf', completion_window='24h', created_at=1731971644, endpoint='/v1/chat/completions', input_file_id='file-n4PqzZzb1JTuZdvu55J5aWVt', object='batch', status='completed', cancelled_at=None, cancelling_at=None, completed_at=1731973058, error_file_id=None, errors=None, expired_at=None, expires_at=1732058044, failed_at=None, finalizing_at=1731972813, in_progress_at=1731971645, metadata={'description': 'generate multiturn interactions for medical instruction tuning specialty_x_domain, turn: 2 c'}, output_file_id='file-mHAEficb0NufnwAKNFJ5pC3a', request_counts=BatchRequestCounts(completed=4030, failed=0, total=4030)), Batch(id='batch_673bc946a7588190b91978c66f7eaba8', completion_window='24h', created_at=1731971398, endpoint='/v1/chat/completions', input_file_id='file-fsFb1zOk0uWN3WXVYKVY2sC0', object='batch', status='completed', cancelled_at=None, cancelling_at=None, completed_at=1731973136, error_file_id=None, errors=None, expired_at=None, expires_at=1732057798, failed_at=None, finalizing_at=1731972728, in_progress_at=1731971400, metadata={'description': 'generate multiturn interactions for medical instruction tuning tasks_x_subtopics, turn: 2 c'}, output_file_id='file-5FLzruQwBhArIk7foBe1HPyV', request_counts=BatchRequestCounts(completed=6658, failed=0, total=6658)), Batch(id='batch_673bbe06df14819083c55bbfec84b01c', completion_window='24h', created_at=1731968519, endpoint='/v1/chat/completions', input_file_id='file-uD5mIFOR8UXjmZgLQf3QgrWC', object='batch', status='completed', cancelled_at=None, cancelling_at=None, completed_at=1731968773, error_file_id=None, errors=None, expired_at=None, expires_at=1732054919, failed_at=None, finalizing_at=1731968678, in_progress_at=1731968521, metadata={'description': 'generate multiturn interactions for medical instruction tuning tasks_x_subtopics_part2, turn: 3 c'}, output_file_id='file-3D2jl8esrNHGMvjyF1KH5PKo', request_counts=BatchRequestCounts(completed=711, failed=0, total=711)), Batch(id='batch_673bbd4e98d881909d29d1e6145033c0', completion_window='24h', created_at=1731968334, endpoint='/v1/chat/completions', input_file_id='file-tHuJwUmb6DmEA0tt5ta664Ku', object='batch', status='completed', cancelled_at=None, cancelling_at=None, completed_at=1731970248, error_file_id=None, errors=None, expired_at=None, expires_at=1732054734, failed_at=None, finalizing_at=1731969844, in_progress_at=1731968336, metadata={'description': 'generate multiturn interactions for medical instruction tuning tasks_x_subtopics, turn: 2 u'}, output_file_id='file-vcfnkxDQVSIuvtRbz73k7jEf', request_counts=BatchRequestCounts(completed=6658, failed=0, total=6658)), Batch(id='batch_673bbc87c8508190945beaaa9f1275a2', completion_window='24h', created_at=1731968135, endpoint='/v1/chat/completions', input_file_id='file-r5iLwP32r3gEo8okAYbvmzfm', object='batch', status='completed', cancelled_at=None, cancelling_at=None, completed_at=1731969993, error_file_id=None, errors=None, expired_at=None, expires_at=1732054535, failed_at=None, finalizing_at=1731969612, in_progress_at=1731968138, metadata={'description': 'generate multiturn interactions for medical instruction tuning specialty_x_domain, turn: 2 u'}, output_file_id='file-Ug4BwA58qqqQfeuxSqyrCiWM', request_counts=BatchRequestCounts(completed=4030, failed=0, total=4030)), Batch(id='batch_673bbb516b188190b83f9e3820671e61', completion_window='24h', created_at=1731967825, endpoint='/v1/chat/completions', input_file_id='file-PnvahYC9le5OwA4Kbs74Ov7n', object='batch', status='completed', cancelled_at=None, cancelling_at=None, completed_at=1731967987, error_file_id=None, errors=None, expired_at=None, expires_at=1732054225, failed_at=None, finalizing_at=1731967938, in_progress_at=1731967826, metadata={'description': 'generate multiturn interactions for medical instruction tuning tasks_x_subtopics_part2, turn: 3 u'}, output_file_id='file-a1I4HJNKbnymOx178xprhJ9U', request_counts=BatchRequestCounts(completed=711, failed=0, total=711)), Batch(id='batch_673bb573461881909ce9b13b8b4a20c2', completion_window='24h', created_at=1731966323, endpoint='/v1/chat/completions', input_file_id='file-gnYyuLhl2PP2btMxJI5NTDon', object='batch', status='completed', cancelled_at=None, cancelling_at=None, completed_at=1731967342, error_file_id=None, errors=None, expired_at=None, expires_at=1732052723, failed_at=None, finalizing_at=1731967176, in_progress_at=1731966325, metadata={'description': 'generate multiturn interactions for medical instruction tuning tasks_x_subtopics_part2, turn: 2 c'}, output_file_id='file-8pVLvqmCybkwUupobkj69mbz', request_counts=BatchRequestCounts(completed=1287, failed=0, total=1287)), Batch(id='batch_673bb2fe1c68819093e7c27cc1783594', completion_window='24h', created_at=1731965694, endpoint='/v1/chat/completions', input_file_id='file-qOWvZkC8qLt7ToCDujRYSYVR', object='batch', status='completed', cancelled_at=None, cancelling_at=None, completed_at=1731965968, error_file_id=None, errors=None, expired_at=None, expires_at=1732052094, failed_at=None, finalizing_at=1731965870, in_progress_at=1731965694, metadata={'description': 'generate multiturn interactions for medical instruction tuning tasks_x_subtopics_part2, turn: 2 u'}, output_file_id='file-rq7l9wvdJPrMXP0a5yFxucex', request_counts=BatchRequestCounts(completed=1287, failed=0, total=1287)), Batch(id='batch_673bacdb85988190846e3cbdfc45c07e', completion_window='24h', created_at=1731964123, endpoint='/v1/chat/completions', input_file_id='file-EPRucPtRadT1YAC2djryJa4N', object='batch', status='completed', cancelled_at=None, cancelling_at=None, completed_at=1731965364, error_file_id=None, errors=None, expired_at=None, expires_at=1732050523, failed_at=None, finalizing_at=1731965244, in_progress_at=1731964124, metadata={'description': 'generate multiturn interactions for medical instruction tuning tasks_x_subtopics_part2, turn: 1 c'}, output_file_id='file-HDDXj4UPdMQlVV4SkGvSibD7', request_counts=BatchRequestCounts(completed=1952, failed=0, total=1952)), Batch(id='batch_673bab8a22ac819083f64087f85e9e44', completion_window='24h', created_at=1731963786, endpoint='/v1/chat/completions', input_file_id='file-rtk2uQS4zuRWgGKKjqJtHXQq', object='batch', status='completed', cancelled_at=None, cancelling_at=None, completed_at=1731967669, error_file_id=None, errors=None, expired_at=None, expires_at=1732050186, failed_at=None, finalizing_at=1731966533, in_progress_at=1731963789, metadata={'description': 'generate multiturn interactions for medical instruction tuning tasks_x_subtopics, turn: 1 c'}, output_file_id='file-hQQJermE1M7lQDZJGBjuLhG3', request_counts=BatchRequestCounts(completed=10736, failed=0, total=10736)), Batch(id='batch_673baa19f4d48190a827656a6fb52ee9', completion_window='24h', created_at=1731963418, endpoint='/v1/chat/completions', input_file_id='file-1xOrQzCuo7NT8eSBJEGRUzgx', object='batch', status='completed', cancelled_at=None, cancelling_at=None, completed_at=1731967822, error_file_id=None, errors=None, expired_at=None, expires_at=1732049818, failed_at=None, finalizing_at=1731967171, in_progress_at=1731963420, metadata={'description': 'generate multiturn interactions for medical instruction tuning specialty_x_domain, turn: 1 c'}, output_file_id='file-Ihr4N5IuQU8PMLH4L3DxxGaN', request_counts=BatchRequestCounts(completed=6321, failed=0, total=6321)), Batch(id='batch_673b5f19025481908adecef0e42fdf7f', completion_window='24h', created_at=1731944217, endpoint='/v1/chat/completions', input_file_id='file-4OHuxVFA4uoi07JQSojS2xWk', object='batch', status='completed', cancelled_at=None, cancelling_at=None, completed_at=1731944317, error_file_id=None, errors=None, expired_at=None, expires_at=1732030617, failed_at=None, finalizing_at=1731944316, in_progress_at=1731944217, metadata={'description': 'nightly eval job'}, output_file_id='file-i7X6y8vPYVU6aLIoe1qXECCt', request_counts=BatchRequestCounts(completed=3, failed=0, total=3)), Batch(id='batch_673b5efc459c8190b7ab158dc3fb0ecf', completion_window='24h', created_at=1731944188, endpoint='/v1/chat/completions', input_file_id='file-XS1TEeVD2W61E9S8Cauj4LPw', object='batch', status='completed', cancelled_at=None, cancelling_at=None, completed_at=1731944274, error_file_id=None, errors=None, expired_at=None, expires_at=1732030588, failed_at=None, finalizing_at=1731944270, in_progress_at=1731944189, metadata={'description': 'nightly eval job'}, output_file_id='file-s3T2abyywHUi1Y81JuZMCj56', request_counts=BatchRequestCounts(completed=20, failed=0, total=20)), Batch(id='batch_673b5372da7c81909008a8d771629979', completion_window='24h', created_at=1731941234, endpoint='/v1/chat/completions', input_file_id='file-6pazXLx69LdToqjYzocR1Ej7', object='batch', status='completed', cancelled_at=None, cancelling_at=None, completed_at=1731941257, error_file_id=None, errors=None, expired_at=None, expires_at=1732027634, failed_at=None, finalizing_at=1731941256, in_progress_at=1731941235, metadata={'description': 'nightly eval job'}, output_file_id='file-N1EPPQjIjC5FTPxPQO8FDukM', request_counts=BatchRequestCounts(completed=20, failed=0, total=20)), Batch(id='batch_673b53226d708190921421009c1e9195', completion_window='24h', created_at=1731941154, endpoint='/v1/chat/completions', input_file_id='file-ICwwyd7wE9HegPVGMp90TMOw', object='batch', status='completed', cancelled_at=None, cancelling_at=None, completed_at=1731941295, error_file_id=None, errors=None, expired_at=None, expires_at=1732027554, failed_at=None, finalizing_at=1731941293, in_progress_at=1731941155, metadata={'description': 'nightly eval job'}, output_file_id='file-YUdrdU0eY8eAdGpRSf7pFHPi', request_counts=BatchRequestCounts(completed=20, failed=0, total=20)), Batch(id='batch_673b528c7ebc8190abccf4c82eb78fa9', completion_window='24h', created_at=1731941004, endpoint='/v1/chat/completions', input_file_id='file-t31ZgdJ7J7YrPo6cAvIMAOL6', object='batch', status='completed', cancelled_at=None, cancelling_at=None, completed_at=1731941018, error_file_id=None, errors=None, expired_at=None, expires_at=1732027404, failed_at=None, finalizing_at=1731941017, in_progress_at=1731941005, metadata={'description': 'nightly eval job'}, output_file_id='file-UcKbx5GzLghOrWInXhPuUB1A', request_counts=BatchRequestCounts(completed=20, failed=0, total=20)), Batch(id='batch_673b5242b7488190a158359a4500c543', completion_window='24h', created_at=1731940930, endpoint='/v1/chat/completions', input_file_id='file-WUTkhXEqm7109NsoEek61RRE', object='batch', status='completed', cancelled_at=None, cancelling_at=None, completed_at=1731941000, error_file_id=None, errors=None, expired_at=None, expires_at=1732027330, failed_at=None, finalizing_at=1731940998, in_progress_at=1731940931, metadata={'description': 'nightly eval job'}, output_file_id='file-zete34exq2CzUqN9JHuuUtzf', request_counts=BatchRequestCounts(completed=20, failed=0, total=20)), Batch(id='batch_673b51d5c9b88190ab59c23e36cce730', completion_window='24h', created_at=1731940821, endpoint='/v1/chat/completions', input_file_id='file-hhCH8jLVC15cd5t8yx1dpHDX', object='batch', status='completed', cancelled_at=None, cancelling_at=None, completed_at=1731940901, error_file_id=None, errors=None, expired_at=None, expires_at=1732027221, failed_at=None, finalizing_at=1731940839, in_progress_at=1731940822, metadata={'description': 'nightly eval job'}, output_file_id='file-BPha1iF3ZRe7jNmiYpazN5xh', request_counts=BatchRequestCounts(completed=20, failed=0, total=20)), Batch(id='batch_673b29da66e08190b140cfe693b1d2ed', completion_window='24h', created_at=1731930586, endpoint='/v1/chat/completions', input_file_id='file-pK9cAAdHCwagafMir2Pa6gc4', object='batch', status='completed', cancelled_at=None, cancelling_at=None, completed_at=1731931732, error_file_id=None, errors=None, expired_at=None, expires_at=1732016986, failed_at=None, finalizing_at=1731931642, in_progress_at=1731930589, metadata={'description': 'preprocess LLava-Pretrain dataset - part_194.jsonl'}, output_file_id='file-cNUaK35fmBryOGXlMo1JnZjA', request_counts=BatchRequestCounts(completed=890, failed=0, total=890))], object='list', first_id='batch_673c7643fccc8190af10f8324ef9557a', last_id='batch_673b29da66e08190b140cfe693b1d2ed', has_more=True)"
      ]
     },
     "execution_count": 9,
     "metadata": {},
     "output_type": "execute_result"
    }
   ],
   "source": [
    "# Get list of jobs\n",
    "from openai import OpenAI\n",
    "\n",
    "path_to_api_key: str = \"../API_KEY.txt\"\n",
    "\n",
    "my_api_key = open(path_to_api_key, 'r').read()\n",
    "client = OpenAI(api_key=my_api_key)\n",
    "\n",
    "\n",
    "client.batches.list()"
   ]
  }
 ],
 "metadata": {
  "kernelspec": {
   "display_name": "ihlqa",
   "language": "python",
   "name": "python3"
  },
  "language_info": {
   "codemirror_mode": {
    "name": "ipython",
    "version": 3
   },
   "file_extension": ".py",
   "mimetype": "text/x-python",
   "name": "python",
   "nbconvert_exporter": "python",
   "pygments_lexer": "ipython3",
   "version": "3.12.7"
  }
 },
 "nbformat": 4,
 "nbformat_minor": 2
}
