{
 "cells": [
  {
   "cell_type": "markdown",
   "metadata": {},
   "source": [
    "### Notebook to use the OpenAI API to send requests in batch mode\n",
    "\n",
    "* Cell 1: Import functions from the _interact_with_gpt_batch_version.py_ script\n",
    "* Cell 2: Load prompts and check if size is correct\n",
    "* Cell 3: Launch batch job, requires path file to batch and description of the job as attributes (WARNING: WILL COST MONEY)\n",
    "* Cell 4: Check status of job\n",
    "* Cell 5: Once the job is completed, the results can be retrieved\n",
    "* Cell 6: Get an overview of the last 20 jobs (useful if results need to be retrieved again)"
   ]
  },
  {
   "cell_type": "code",
   "execution_count": 1,
   "metadata": {},
   "outputs": [],
   "source": [
    "# Import scripts with the functions to interact with the OpenAI API\n",
    "import interact_with_gpt_batch_version as script"
   ]
  },
  {
   "cell_type": "code",
   "execution_count": 2,
   "metadata": {},
   "outputs": [
    {
     "name": "stdout",
     "output_type": "stream",
     "text": [
      "Number of entries: 20395\n"
     ]
    }
   ],
   "source": [
    "# Load file of batched prompts and check if it is the correct file:\n",
    "\n",
    "# Define the file path\n",
    "situations_name = \"batched_prompts_task_x_specialties_x_demographic_x_answerstyle_turn_1c\"\n",
    "file_path = \"../results/\" + situations_name + \".jsonl\"\n",
    "\n",
    "# Initialize a counter\n",
    "count = 0\n",
    "\n",
    "# Open the file and count each line\n",
    "with open(file_path, 'r') as file:\n",
    "    for line in file:\n",
    "        count += 1\n",
    "\n",
    "print(\"Number of entries:\", count)"
   ]
  },
  {
   "cell_type": "code",
   "execution_count": null,
   "metadata": {},
   "outputs": [
    {
     "name": "stdout",
     "output_type": "stream",
     "text": [
      "Connecting to openai\n",
      "Creating batch file\n",
      "Batch file successfully created\n",
      "FileObject(id='file-6dUK8ihfdk8CnXfoszLwdV', bytes=48632203, created_at=1734037362, filename='batched_prompts_task_x_specialties_x_demographic_x_answerstyle_turn_1c.jsonl', object='file', purpose='batch', status='processed', status_details=None)\n",
      "Launch batch\n",
      "Batch successfully launched\n",
      "Batch id saved to ../results/batch_id.txt and batch object saved to ../results/batch.txt\n"
     ]
    }
   ],
   "source": [
    "# Launch batch job\n",
    "# Decomment line below to run job using openai API in batch mode\n",
    "# WILL COST MONEY\n",
    "# script.process_batch_by_gpt(path_to_batched_prompts = file_path, description=f\"generate prompts for multiturn interactions for medical instruction tuning, case: {situations_name}\")"
   ]
  },
  {
   "cell_type": "code",
   "execution_count": 13,
   "metadata": {},
   "outputs": [
    {
     "name": "stdout",
     "output_type": "stream",
     "text": [
      "Batch(id='batch_675b4f73d90c81908d216960e69db7fc', completion_window='24h', created_at=1734037363, endpoint='/v1/chat/completions', input_file_id='file-6dUK8ihfdk8CnXfoszLwdV', object='batch', status='in_progress', cancelled_at=None, cancelling_at=None, completed_at=None, error_file_id=None, errors=None, expired_at=None, expires_at=1734123763, failed_at=None, finalizing_at=None, in_progress_at=1734037369, metadata={'description': 'generate prompts for multiturn interactions for medical instruction tuning, case: batched_prompts_task_x_specialties_x_demographic_x_answerstyle_turn_1c'}, output_file_id=None, request_counts=BatchRequestCounts(completed=20111, failed=0, total=20395))\n",
      "status = in_progress\n"
     ]
    }
   ],
   "source": [
    "# get status of batched job\n",
    "script.get_batch_status()"
   ]
  },
  {
   "cell_type": "code",
   "execution_count": 8,
   "metadata": {},
   "outputs": [],
   "source": [
    "# retrieve results\n",
    "script.retrieve_results()"
   ]
  },
  {
   "cell_type": "code",
   "execution_count": 4,
   "metadata": {},
   "outputs": [
    {
     "data": {
      "text/plain": [
       "SyncCursorPage[Batch](data=[Batch(id='batch_675b3c3bdef48190aa3f2cdad6b0a86d', completion_window='24h', created_at=1734032443, endpoint='/v1/chat/completions', input_file_id='file-EG2i6SnUNTpiwJFDGmPXuy', object='batch', status='completed', cancelled_at=None, cancelling_at=None, completed_at=1734036580, error_file_id=None, errors=None, expired_at=None, expires_at=1734118843, failed_at=None, finalizing_at=1734035204, in_progress_at=1734032449, metadata={'description': 'generate prompts for multiturn interactions for medical instruction tuning, case: batched_prompts_task_x_specialties_x_demographic_x_answerstyle_2_turn_1c'}, output_file_id='file-PWVkZ7wedsJLVNEPbrCqGU', request_counts=BatchRequestCounts(completed=20395, failed=0, total=20395)), Batch(id='batch_675ae8dc01f48190b8d6552821f58748', completion_window='24h', created_at=1734011100, endpoint='/v1/chat/completions', input_file_id='file-8GCGyxe5eR5SHcbMkcNLN4', object='batch', status='completed', cancelled_at=None, cancelling_at=None, completed_at=1734015219, error_file_id=None, errors=None, expired_at=None, expires_at=1734097500, failed_at=None, finalizing_at=1734013576, in_progress_at=1734011103, metadata=None, output_file_id='file-LnDMBYezivSS6MkjfZW2QE', request_counts=BatchRequestCounts(completed=14536, failed=0, total=14536)), Batch(id='batch_675ae8d78bc48190a7a3042c112dee1d', completion_window='24h', created_at=1734011095, endpoint='/v1/chat/completions', input_file_id='file-WXXSLsXzXbyjgJGzP3J6e5', object='batch', status='completed', cancelled_at=None, cancelling_at=None, completed_at=1734015288, error_file_id=None, errors=None, expired_at=None, expires_at=1734097495, failed_at=None, finalizing_at=1734013639, in_progress_at=1734011099, metadata=None, output_file_id='file-BrSBoGEpS27ZeiSx9pPr1a', request_counts=BatchRequestCounts(completed=14536, failed=0, total=14536)), Batch(id='batch_6758d05cddbc8191bb1852460d141bbf', completion_window='24h', created_at=1733873756, endpoint='/v1/chat/completions', input_file_id='file-2MsExa7PmMZ6VABHkvX1wW', object='batch', status='completed', cancelled_at=None, cancelling_at=None, completed_at=1733875332, error_file_id=None, errors=None, expired_at=None, expires_at=1733960156, failed_at=None, finalizing_at=1733875020, in_progress_at=1733873758, metadata={'description': 'generate prompts for multiturn interactions for medical instruction tuning, case: task_x_specialties_x_demographic_2'}, output_file_id='file-9SimQjBpEk4YSbnSAyVQNF', request_counts=BatchRequestCounts(completed=2587, failed=0, total=2587)), Batch(id='batch_6758bb02e9bc8191ae1ffbd2f760c250', completion_window='24h', created_at=1733868291, endpoint='/v1/chat/completions', input_file_id='file-HawpA2mNtxovzZx2ZHUZ91', object='batch', status='completed', cancelled_at=None, cancelling_at=None, completed_at=1733869252, error_file_id=None, errors=None, expired_at=None, expires_at=1733954691, failed_at=None, finalizing_at=1733869026, in_progress_at=1733868292, metadata={'description': 'generate prompts for multiturn interactions for medical instruction tuning, case: task_x_specialties_x_demographic'}, output_file_id='file-LBx92i8JCe12hrJAUkXGQz', request_counts=BatchRequestCounts(completed=2587, failed=0, total=2587)), Batch(id='batch_67588ab5ac888191907ea181ef1237b9', completion_window='24h', created_at=1733855925, endpoint='/v1/chat/completions', input_file_id='file-LacthCcGimU1BVshaeiU5U', object='batch', status='completed', cancelled_at=None, cancelling_at=None, completed_at=1733857886, error_file_id=None, errors=None, expired_at=None, expires_at=1733942325, failed_at=None, finalizing_at=1733857413, in_progress_at=1733855928, metadata=None, output_file_id='file-TiEsE6LXiSCMxFXR2FRpeA', request_counts=BatchRequestCounts(completed=4842, failed=0, total=4842)), Batch(id='batch_67588a9f34d08191ae46e0b0df48bad4', completion_window='24h', created_at=1733855903, endpoint='/v1/chat/completions', input_file_id='file-XdsqMvwvyCdhgAjLhnsggK', object='batch', status='completed', cancelled_at=None, cancelling_at=None, completed_at=1733857600, error_file_id=None, errors=None, expired_at=None, expires_at=1733942303, failed_at=None, finalizing_at=1733857269, in_progress_at=1733855904, metadata=None, output_file_id='file-DYQC1F7ytVp4663XLqVpNh', request_counts=BatchRequestCounts(completed=4842, failed=0, total=4842)), Batch(id='batch_67587b8026008191aa092617e0ede462', completion_window='24h', created_at=1733852032, endpoint='/v1/chat/completions', input_file_id='file-9Ez65xy4vDBoSLyifpuJJ6', object='batch', status='completed', cancelled_at=None, cancelling_at=None, completed_at=1733853656, error_file_id=None, errors=None, expired_at=None, expires_at=1733938432, failed_at=None, finalizing_at=1733853341, in_progress_at=1733852033, metadata=None, output_file_id='file-5TTHL1xu41RYEZvbK6tKDV', request_counts=BatchRequestCounts(completed=4842, failed=0, total=4842)), Batch(id='batch_67587b7d911c81918537d868b4a91ec0', completion_window='24h', created_at=1733852029, endpoint='/v1/chat/completions', input_file_id='file-F2d1H3eTgRsPXxychpodLk', object='batch', status='completed', cancelled_at=None, cancelling_at=None, completed_at=1733856075, error_file_id=None, errors=None, expired_at=None, expires_at=1733938429, failed_at=None, finalizing_at=1733855370, in_progress_at=1733852032, metadata=None, output_file_id='file-Hmgpj18ndtWUCBiWiM2tVw', request_counts=BatchRequestCounts(completed=4842, failed=0, total=4842)), Batch(id='batch_67587af391ec8191be9a99b9e54b2859', completion_window='24h', created_at=1733851891, endpoint='/v1/chat/completions', input_file_id='file-5hfqKtntYXs5KJonjhBSQy', object='batch', status='completed', cancelled_at=None, cancelling_at=None, completed_at=1733853629, error_file_id=None, errors=None, expired_at=None, expires_at=1733938291, failed_at=None, finalizing_at=1733853319, in_progress_at=1733851893, metadata=None, output_file_id='file-WiEgofK6enyBGqCr494Rqy', request_counts=BatchRequestCounts(completed=4842, failed=0, total=4842)), Batch(id='batch_67587af032908191b17629d83b57d9a3', completion_window='24h', created_at=1733851888, endpoint='/v1/chat/completions', input_file_id='file-L6UTtHAkFukY1uNFQQxp8Q', object='batch', status='completed', cancelled_at=None, cancelling_at=None, completed_at=1733856040, error_file_id=None, errors=None, expired_at=None, expires_at=1733938288, failed_at=None, finalizing_at=1733855337, in_progress_at=1733851891, metadata=None, output_file_id='file-7jH4L9rS5Ewct6pFjvqYU4', request_counts=BatchRequestCounts(completed=4842, failed=0, total=4842)), Batch(id='batch_6756f956260c8191aee51b24ce7f4246', completion_window='24h', created_at=1733753174, endpoint='/v1/chat/completions', input_file_id='file-NLc96Ud2fGndHsAM837aLG', object='batch', status='completed', cancelled_at=None, cancelling_at=None, completed_at=1733762256, error_file_id=None, errors=None, expired_at=None, expires_at=1733839574, failed_at=None, finalizing_at=1733757827, in_progress_at=1733753182, metadata={'description': 'No description provided'}, output_file_id='file-TygL81q9d4g8MUfZFagRv4', request_counts=BatchRequestCounts(completed=39267, failed=0, total=39267)), Batch(id='batch_6756f95366348191a4f634d3d398ca47', completion_window='24h', created_at=1733753171, endpoint='/v1/chat/completions', input_file_id='file-4srWsa8hpgNNsvL2pDmy9p', object='batch', status='completed', cancelled_at=None, cancelling_at=None, completed_at=1733762994, error_file_id=None, errors=None, expired_at=None, expires_at=1733839571, failed_at=None, finalizing_at=1733758673, in_progress_at=1733753178, metadata={'description': 'No description provided'}, output_file_id='file-2chGRrXfMt967QJMn8k2KY', request_counts=BatchRequestCounts(completed=40000, failed=0, total=40000)), Batch(id='batch_6756f9507e2081919e3ecb3faa4a8d06', completion_window='24h', created_at=1733753168, endpoint='/v1/chat/completions', input_file_id='file-LcKa22BxdhE34V5yUEnbHs', object='batch', status='completed', cancelled_at=None, cancelling_at=None, completed_at=1733763372, error_file_id=None, errors=None, expired_at=None, expires_at=1733839568, failed_at=None, finalizing_at=1733758674, in_progress_at=1733753177, metadata={'description': 'No description provided'}, output_file_id='file-3rgzeNmH2nUANB3Uhrnz8z', request_counts=BatchRequestCounts(completed=40000, failed=0, total=40000)), Batch(id='batch_6756f835ef4881919272b9b0f87e4f42', completion_window='24h', created_at=1733752886, endpoint='/v1/chat/completions', input_file_id='file-QV5qtEyyvghWR1NJEWXmNa', object='batch', status='completed', cancelled_at=None, cancelling_at=None, completed_at=1733752893, error_file_id=None, errors=None, expired_at=None, expires_at=1733839286, failed_at=None, finalizing_at=1733752892, in_progress_at=1733752887, metadata={'description': 'No description provided'}, output_file_id='file-F6jt39HWxHtX1wBz7MzMyp', request_counts=BatchRequestCounts(completed=1, failed=0, total=1)), Batch(id='batch_6756f83459408191a14952fea3824d7e', completion_window='24h', created_at=1733752884, endpoint='/v1/chat/completions', input_file_id='file-EZv6M8zsXGgAphAS7DDCkj', object='batch', status='completed', cancelled_at=None, cancelling_at=None, completed_at=1733752905, error_file_id=None, errors=None, expired_at=None, expires_at=1733839284, failed_at=None, finalizing_at=1733752904, in_progress_at=1733752885, metadata={'description': 'No description provided'}, output_file_id='file-KDHRhLP5sH9cCXML4Nqi6W', request_counts=BatchRequestCounts(completed=2, failed=0, total=2)), Batch(id='batch_6756f83279e08191a0902ce61c3afb06', completion_window='24h', created_at=1733752882, endpoint='/v1/chat/completions', input_file_id='file-BE7SqfmxDE8TmNfYmfMgrG', object='batch', status='completed', cancelled_at=None, cancelling_at=None, completed_at=1733752890, error_file_id=None, errors=None, expired_at=None, expires_at=1733839282, failed_at=None, finalizing_at=1733752890, in_progress_at=1733752883, metadata={'description': 'No description provided'}, output_file_id='file-VNxd6CQ7D2165BxsWgbSVU', request_counts=BatchRequestCounts(completed=2, failed=0, total=2)), Batch(id='batch_6756f1f327e88191803aec34a3e7496c', completion_window='24h', created_at=1733751283, endpoint='/v1/chat/completions', input_file_id='file-468LAz3qQGDH82d1ZbNgCy', object='batch', status='completed', cancelled_at=None, cancelling_at=None, completed_at=1733751298, error_file_id=None, errors=None, expired_at=None, expires_at=1733837683, failed_at=None, finalizing_at=1733751297, in_progress_at=1733751284, metadata={'description': 'No description provided'}, output_file_id='file-QcYFFYgeyrSJWbC9L3xdQ8', request_counts=BatchRequestCounts(completed=5, failed=0, total=5)), Batch(id='batch_6756f042afec8191996b13b4cd81a165', completion_window='24h', created_at=1733750850, endpoint='/v1/chat/completions', input_file_id='file-RAdw6ab5Je2kwcMxrPwy73', object='batch', status='completed', cancelled_at=None, cancelling_at=None, completed_at=1733750914, error_file_id=None, errors=None, expired_at=None, expires_at=1733837250, failed_at=None, finalizing_at=1733750913, in_progress_at=1733750851, metadata={'description': 'No description provided'}, output_file_id='file-Sf7NNCvdDFs5NebditYowd', request_counts=BatchRequestCounts(completed=5, failed=0, total=5)), Batch(id='batch_67558b3060f48191bd0e13e2cac09148', completion_window='24h', created_at=1733659440, endpoint='/v1/chat/completions', input_file_id='file-RwcMDyjzXgh5xpMHc2yac1', object='batch', status='completed', cancelled_at=None, cancelling_at=None, completed_at=1733659652, error_file_id=None, errors=None, expired_at=None, expires_at=1733745840, failed_at=None, finalizing_at=1733659623, in_progress_at=1733659445, metadata={'description': 'CAMUS enhancing - part_57.jsonl'}, output_file_id='file-QrMRJfWoVbvwHyxNuh6tJz', request_counts=BatchRequestCounts(completed=367, failed=0, total=367))], object='list', first_id='batch_675b3c3bdef48190aa3f2cdad6b0a86d', last_id='batch_67558b3060f48191bd0e13e2cac09148', has_more=True)"
      ]
     },
     "execution_count": 4,
     "metadata": {},
     "output_type": "execute_result"
    }
   ],
   "source": [
    "# Get list of jobs\n",
    "from openai import OpenAI\n",
    "\n",
    "path_to_api_key: str = \"../API_KEY.txt\"\n",
    "\n",
    "my_api_key = open(path_to_api_key, 'r').read()\n",
    "client = OpenAI(api_key=my_api_key)\n",
    "\n",
    "\n",
    "client.batches.list()"
   ]
  }
 ],
 "metadata": {
  "kernelspec": {
   "display_name": "ihlqa",
   "language": "python",
   "name": "python3"
  },
  "language_info": {
   "codemirror_mode": {
    "name": "ipython",
    "version": 3
   },
   "file_extension": ".py",
   "mimetype": "text/x-python",
   "name": "python",
   "nbconvert_exporter": "python",
   "pygments_lexer": "ipython3",
   "version": "3.12.7"
  }
 },
 "nbformat": 4,
 "nbformat_minor": 2
}
