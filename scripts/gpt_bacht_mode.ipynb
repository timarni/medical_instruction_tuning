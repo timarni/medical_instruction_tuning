{
 "cells": [
  {
   "cell_type": "code",
   "execution_count": 1,
   "metadata": {},
   "outputs": [],
   "source": [
    "import interact_with_gpt_batch_version as script"
   ]
  },
  {
   "cell_type": "code",
   "execution_count": 2,
   "metadata": {},
   "outputs": [
    {
     "name": "stdout",
     "output_type": "stream",
     "text": [
      "Number of entries: 10736\n"
     ]
    }
   ],
   "source": [
    "# Load file of batched prompts and check if it is the correct file:\n",
    "\n",
    "# Define the file path\n",
    "file_path = \"../results/batched_prompts.jsonl\"\n",
    "\n",
    "# Initialize a counter\n",
    "count = 0\n",
    "\n",
    "# Open the file and count each line\n",
    "with open(file_path, 'r') as file:\n",
    "    for line in file:\n",
    "        count += 1\n",
    "\n",
    "print(\"Number of entries:\", count)"
   ]
  },
  {
   "cell_type": "code",
   "execution_count": null,
   "metadata": {},
   "outputs": [
    {
     "name": "stdout",
     "output_type": "stream",
     "text": [
      "Connecting to openai\n",
      "Creating batch file\n",
      "Batch file successfully created\n",
      "FileObject(id='file-UpeRlRWhZtfSnwz2OE48xTwC', bytes=10041266, created_at=1730996826, filename='batched_prompts.jsonl', object='file', purpose='batch', status='processed', status_details=None)\n",
      "Launch batch\n",
      "Batch successfully launched\n",
      "Batch id saved to ../results/batch_id.txt and batch object saved to ../results/batch.txt\n"
     ]
    }
   ],
   "source": [
    "# Launch batch job\n",
    "# Decomment line below to run job using openai API in batch mode\n",
    "# WILL COST MONEY\n",
    "# script.process_batch_by_gpt(path_to_batched_prompts = file_path)"
   ]
  },
  {
   "cell_type": "code",
   "execution_count": 35,
   "metadata": {},
   "outputs": [
    {
     "name": "stdout",
     "output_type": "stream",
     "text": [
      "Batch(id='batch_672cea5b77f4819084f4b75ae63d3988', completion_window='24h', created_at=1730996827, endpoint='/v1/chat/completions', input_file_id='file-UpeRlRWhZtfSnwz2OE48xTwC', object='batch', status='completed', cancelled_at=None, cancelling_at=None, completed_at=1731000450, error_file_id=None, errors=None, expired_at=None, expires_at=1731083227, failed_at=None, finalizing_at=1730999337, in_progress_at=1730996830, metadata={'description': 'generate prompts of health care workers'}, output_file_id='file-pMOb8QcYQGJYm46Ao2YQVPmv', request_counts=BatchRequestCounts(completed=10736, failed=0, total=10736))\n",
      "status = completed\n"
     ]
    }
   ],
   "source": [
    "# get status of batched job\n",
    "script.get_batch_status()"
   ]
  },
  {
   "cell_type": "code",
   "execution_count": 36,
   "metadata": {},
   "outputs": [],
   "source": [
    "# retrieve results\n",
    "script.retrieve_results()"
   ]
  },
  {
   "cell_type": "code",
   "execution_count": 8,
   "metadata": {},
   "outputs": [
    {
     "data": {
      "text/plain": [
       "SyncCursorPage[Batch](data=[Batch(id='batch_672cea5b77f4819084f4b75ae63d3988', completion_window='24h', created_at=1730996827, endpoint='/v1/chat/completions', input_file_id='file-UpeRlRWhZtfSnwz2OE48xTwC', object='batch', status='in_progress', cancelled_at=None, cancelling_at=None, completed_at=None, error_file_id=None, errors=None, expired_at=None, expires_at=1731083227, failed_at=None, finalizing_at=None, in_progress_at=1730996830, metadata={'description': 'generate prompts of health care workers'}, output_file_id=None, request_counts=BatchRequestCounts(completed=2242, failed=0, total=10736)), Batch(id='batch_672b327f4c2c8190a9796e97c3c46db1', completion_window='24h', created_at=1730884223, endpoint='/v1/chat/completions', input_file_id='file-8bVFH9LFCxuRhbKb4tNmPNc0', object='batch', status='completed', cancelled_at=None, cancelling_at=None, completed_at=1730885653, error_file_id=None, errors=None, expired_at=None, expires_at=1730970623, failed_at=None, finalizing_at=1730885160, in_progress_at=1730884224, metadata={'description': 'generate prompts of health care workers'}, output_file_id='file-Ac0skDdzUM4y8CYmoJlxNHdm', request_counts=BatchRequestCounts(completed=6321, failed=0, total=6321)), Batch(id='batch_672a9031ab7481908fecf308eb05cfe5', completion_window='24h', created_at=1730842673, endpoint='/v1/chat/completions', input_file_id='file-ZovdxtLhrBJFQ0DyxgqGesDn', object='batch', status='completed', cancelled_at=None, cancelling_at=None, completed_at=1730844999, error_file_id=None, errors=None, expired_at=None, expires_at=1730929073, failed_at=None, finalizing_at=1730844414, in_progress_at=1730842675, metadata={'description': 'generate prompts of health care workers'}, output_file_id='file-tV9bSbK4cicGVE5UgJFeSMFt', request_counts=BatchRequestCounts(completed=6321, failed=0, total=6321)), Batch(id='batch_672100a09f688190922effbedabb8728', completion_window='24h', created_at=1730216096, endpoint='/v1/chat/completions', input_file_id='file-qY0dYed6Zsbhw5yZ11gjNOlJ', object='batch', status='completed', cancelled_at=None, cancelling_at=None, completed_at=1730216138, error_file_id=None, errors=None, expired_at=None, expires_at=1730302496, failed_at=None, finalizing_at=1730216136, in_progress_at=1730216097, metadata={'description': 'generate MCQ based on ICRC IHL Practice'}, output_file_id='file-1Lk3oHGrECEBZlibJQWWrtgN', request_counts=BatchRequestCounts(completed=28, failed=0, total=28)), Batch(id='batch_6720fe6370988190bb58cc8a1aeb8df8', completion_window='24h', created_at=1730215523, endpoint='/v1/chat/completions', input_file_id='file-do8Plz5xgLqxGKSTYe97ASJM', object='batch', status='completed', cancelled_at=None, cancelling_at=None, completed_at=1730215850, error_file_id=None, errors=None, expired_at=None, expires_at=1730301923, failed_at=None, finalizing_at=1730215845, in_progress_at=1730215524, metadata={'description': 'generate MCQ based on ICRC IHL Practice'}, output_file_id='file-FkehfJ3WCCMwB1P2AWQ7o89l', request_counts=BatchRequestCounts(completed=60, failed=0, total=60)), Batch(id='batch_6720fb4f3d9481908569ccf85b0776ee', completion_window='24h', created_at=1730214735, endpoint='/v1/chat/completions', input_file_id='file-nGTZ9yTCYAtjZKZBzlyo21Uk', object='batch', status='completed', cancelled_at=None, cancelling_at=None, completed_at=1730214879, error_file_id=None, errors=None, expired_at=None, expires_at=1730301135, failed_at=None, finalizing_at=1730214877, in_progress_at=1730214795, metadata={'description': 'generate MCQ based on ICRC IHL Practice'}, output_file_id='file-Vmo4x9Hc9vjIzdfOuaz8jDOg', request_counts=BatchRequestCounts(completed=34, failed=0, total=34)), Batch(id='batch_6720fa00129c8190bbd640dfcf096831', completion_window='24h', created_at=1730214400, endpoint='/v1/chat/completions', input_file_id='file-mJJqPIpWLVEcBfrfaXVM1viY', object='batch', status='completed', cancelled_at=None, cancelling_at=None, completed_at=1730214461, error_file_id=None, errors=None, expired_at=None, expires_at=1730300800, failed_at=None, finalizing_at=1730214459, in_progress_at=1730214400, metadata={'description': 'generate MCQ based on ICRC IHL Practice'}, output_file_id='file-SDOdqCO7ry2vYAEYDGu3FaJw', request_counts=BatchRequestCounts(completed=30, failed=0, total=30)), Batch(id='batch_6720eaea6c4881909e0096ad6e1ec935', completion_window='24h', created_at=1730210538, endpoint='/v1/chat/completions', input_file_id='file-NMgUEApQaErkDhl7QMyupBHD', object='batch', status='completed', cancelled_at=None, cancelling_at=None, completed_at=1730210563, error_file_id=None, errors=None, expired_at=None, expires_at=1730296938, failed_at=None, finalizing_at=1730210560, in_progress_at=1730210538, metadata={'description': 'generate MCQ based on ICRC IHL Practice'}, output_file_id='file-seP8CBeSsopg9SJv2k7FMNWb', request_counts=BatchRequestCounts(completed=46, failed=0, total=46)), Batch(id='batch_6720d0b2db508190b8d3ffe4ef091965', completion_window='24h', created_at=1730203826, endpoint='/v1/chat/completions', input_file_id='file-EVmxRh00izm70AnZdfsa0tQA', object='batch', status='completed', cancelled_at=None, cancelling_at=None, completed_at=1730203844, error_file_id=None, errors=None, expired_at=None, expires_at=1730290226, failed_at=None, finalizing_at=1730203841, in_progress_at=1730203827, metadata={'description': 'generate MCQ based on ICRC IHL Practice'}, output_file_id='file-oRmNe5225bxCseDBxzitfiJZ', request_counts=BatchRequestCounts(completed=44, failed=0, total=44)), Batch(id='batch_671feaa751248190b71b1ad59397548b', completion_window='24h', created_at=1730144935, endpoint='/v1/chat/completions', input_file_id='file-9t086OQVCezmipSnPWJggjFF', object='batch', status='completed', cancelled_at=None, cancelling_at=None, completed_at=1730144997, error_file_id=None, errors=None, expired_at=None, expires_at=1730231335, failed_at=None, finalizing_at=1730144997, in_progress_at=1730144935, metadata=None, output_file_id='file-xSpJEMdPO9XYw2NwzUnsztRV', request_counts=BatchRequestCounts(completed=3, failed=0, total=3)), Batch(id='batch_671fe95691ec8190844abcd2ff875c5e', completion_window='24h', created_at=1730144598, endpoint='/v1/chat/completions', input_file_id='file-C720nSOZKeeQYMMBuGEiMthY', object='batch', status='completed', cancelled_at=None, cancelling_at=None, completed_at=1730144607, error_file_id=None, errors=None, expired_at=None, expires_at=1730230998, failed_at=None, finalizing_at=1730144607, in_progress_at=1730144598, metadata=None, output_file_id='file-kTrILOsQmI4QGKLRhF2JhIXP', request_counts=BatchRequestCounts(completed=3, failed=0, total=3)), Batch(id='batch_671fe91e28d48190b69e9ce00cd17127', completion_window='24h', created_at=1730144542, endpoint='/v1/chat/completions', input_file_id='file-8RojTD4rZ8D5sZKFC2z3JOyk', object='batch', status='completed', cancelled_at=None, cancelling_at=None, completed_at=1730144549, error_file_id=None, errors=None, expired_at=None, expires_at=1730230942, failed_at=None, finalizing_at=1730144548, in_progress_at=1730144542, metadata=None, output_file_id='file-5IZg0iBmUwaR5N13kwLmv3zW', request_counts=BatchRequestCounts(completed=3, failed=0, total=3)), Batch(id='batch_671fe850a150819082467813bf5f5029', completion_window='24h', created_at=1730144336, endpoint='/v1/chat/completions', input_file_id='file-6Yt6KbDRUaFYgjC272lMdrtQ', object='batch', status='completed', cancelled_at=None, cancelling_at=None, completed_at=1730144409, error_file_id=None, errors=None, expired_at=None, expires_at=1730230736, failed_at=None, finalizing_at=1730144409, in_progress_at=1730144337, metadata=None, output_file_id='file-IY5Nf7KBBeltELP6uya5YAv7', request_counts=BatchRequestCounts(completed=3, failed=0, total=3)), Batch(id='batch_671fe773a3988190bc9615ab4b94e004', completion_window='24h', created_at=1730144115, endpoint='/v1/chat/completions', input_file_id='file-mmUQcqeA9INa08kdILQ3Fn4r', object='batch', status='completed', cancelled_at=None, cancelling_at=None, completed_at=1730144128, error_file_id=None, errors=None, expired_at=None, expires_at=1730230515, failed_at=None, finalizing_at=1730144128, in_progress_at=1730144115, metadata=None, output_file_id='file-HxLnDfuTXq1D3rTbnCKdpZ75', request_counts=BatchRequestCounts(completed=3, failed=0, total=3)), Batch(id='batch_671fe666a6388190b0209de9beedc0ff', completion_window='24h', created_at=1730143846, endpoint='/v1/chat/completions', input_file_id='file-JcWxYuXbnqYiud9h94hojuE0', object='batch', status='completed', cancelled_at=None, cancelling_at=None, completed_at=1730143913, error_file_id=None, errors=None, expired_at=None, expires_at=1730230246, failed_at=None, finalizing_at=1730143912, in_progress_at=1730143847, metadata=None, output_file_id='file-dcQHfCq8VzpNAywOK6oJG9M0', request_counts=BatchRequestCounts(completed=3, failed=0, total=3)), Batch(id='batch_671fe4ea96288190a13e79e042259aca', completion_window='24h', created_at=1730143466, endpoint='/v1/chat/completions', input_file_id='file-VrWO1OxCZSGceY5E91FEGa06', object='batch', status='completed', cancelled_at=None, cancelling_at=None, completed_at=1730143473, error_file_id=None, errors=None, expired_at=None, expires_at=1730229866, failed_at=None, finalizing_at=1730143473, in_progress_at=1730143467, metadata=None, output_file_id='file-Ie1zBfoROUdlhkcGgTK309yR', request_counts=BatchRequestCounts(completed=3, failed=0, total=3)), Batch(id='batch_671fe42e5a948190936b4c0088103b19', completion_window='24h', created_at=1730143278, endpoint='/v1/chat/completions', input_file_id='file-jkOiu6IbfB8i2LUwQ4Sh0v7n', object='batch', status='completed', cancelled_at=None, cancelling_at=None, completed_at=1730143286, error_file_id=None, errors=None, expired_at=None, expires_at=1730229678, failed_at=None, finalizing_at=1730143285, in_progress_at=1730143278, metadata=None, output_file_id='file-oM2QEzkqgmWtTFd3DFFwRtUU', request_counts=BatchRequestCounts(completed=3, failed=0, total=3)), Batch(id='batch_671fe3f801f48190a293f0491cf158a7', completion_window='24h', created_at=1730143224, endpoint='/v1/chat/completions', input_file_id='file-DiS5381TYGfyHwo79yZddKp7', object='batch', status='completed', cancelled_at=None, cancelling_at=None, completed_at=1730143236, error_file_id=None, errors=None, expired_at=None, expires_at=1730229624, failed_at=None, finalizing_at=1730143236, in_progress_at=1730143224, metadata=None, output_file_id='file-kbaXa3cQvMDnQCRAdIPe3zuS', request_counts=BatchRequestCounts(completed=3, failed=0, total=3)), Batch(id='batch_671fe0d7bb488190a955727e544212b7', completion_window='24h', created_at=1730142423, endpoint='/v1/chat/completions', input_file_id='file-If5eoHFoI8xnZjdk49tfuD6E', object='batch', status='completed', cancelled_at=None, cancelling_at=None, completed_at=1730142431, error_file_id=None, errors=None, expired_at=None, expires_at=1730228823, failed_at=None, finalizing_at=1730142431, in_progress_at=1730142424, metadata=None, output_file_id='file-1Jx30MBfErVL5rhhi0wJYiO6', request_counts=BatchRequestCounts(completed=3, failed=0, total=3)), Batch(id='batch_671ccad921308190928abb7edce047b3', completion_window='24h', created_at=1729940185, endpoint='/v1/chat/completions', input_file_id='file-CfosYqUEWVI1mxS6JlcDVQ7M', object='batch', status='completed', cancelled_at=None, cancelling_at=None, completed_at=1729940739, error_file_id=None, errors=None, expired_at=None, expires_at=1730026585, failed_at=None, finalizing_at=1729940679, in_progress_at=1729940187, metadata={'description': 'nightly eval job - split36'}, output_file_id='file-5DgLxEpOLbpt5zkuiGm3tqlN', request_counts=BatchRequestCounts(completed=645, failed=0, total=645))], object='list', first_id='batch_672cea5b77f4819084f4b75ae63d3988', last_id='batch_671ccad921308190928abb7edce047b3', has_more=True)"
      ]
     },
     "execution_count": 8,
     "metadata": {},
     "output_type": "execute_result"
    }
   ],
   "source": [
    "# Get list of jobs\n",
    "from openai import OpenAI\n",
    "\n",
    "path_to_api_key: str = \"../API_KEY.txt\"\n",
    "\n",
    "my_api_key = open(path_to_api_key, 'r').read()\n",
    "client = OpenAI(api_key=my_api_key)\n",
    "\n",
    "\n",
    "client.batches.list()"
   ]
  }
 ],
 "metadata": {
  "kernelspec": {
   "display_name": "ihlqa",
   "language": "python",
   "name": "python3"
  },
  "language_info": {
   "codemirror_mode": {
    "name": "ipython",
    "version": 3
   },
   "file_extension": ".py",
   "mimetype": "text/x-python",
   "name": "python",
   "nbconvert_exporter": "python",
   "pygments_lexer": "ipython3",
   "version": "3.12.7"
  }
 },
 "nbformat": 4,
 "nbformat_minor": 2
}
