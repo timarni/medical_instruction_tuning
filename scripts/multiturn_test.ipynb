{
 "cells": [
  {
   "cell_type": "markdown",
   "metadata": {},
   "source": [
    "### Test script for multiturn conversation dataset generation\n",
    "\n",
    "* Cell 1: load packages\n",
    "* Cell 2: Generate 100000 system prompts to check for potential bugs in the code\n",
    "* Cell 3 and further: Generate a conversation example"
   ]
  },
  {
   "cell_type": "code",
   "execution_count": 1,
   "metadata": {},
   "outputs": [],
   "source": [
    "import json\n",
    "from tqdm import tqdm\n",
    "from openai import OpenAI\n",
    "import random\n",
    "import pandas as pd\n",
    "from multiturn_modul import MultiturnStyle, get_multiturn_style_additional\n",
    "\n",
    "path_to_api_key: str = \"../API_KEY.txt\"\n",
    "my_api_key = open(path_to_api_key, 'r').read()\n",
    "client = OpenAI(api_key=my_api_key)\n",
    "gpt_model: str = \"gpt-4o\""
   ]
  },
  {
   "cell_type": "code",
   "execution_count": 3,
   "metadata": {},
   "outputs": [
    {
     "ename": "NameError",
     "evalue": "name 'get_multiturn_style' is not defined",
     "output_type": "error",
     "traceback": [
      "\u001b[1;31m---------------------------------------------------------------------------\u001b[0m",
      "\u001b[1;31mNameError\u001b[0m                                 Traceback (most recent call last)",
      "Cell \u001b[1;32mIn[3], line 7\u001b[0m\n\u001b[0;32m      4\u001b[0m \u001b[38;5;28mid\u001b[39m \u001b[38;5;241m=\u001b[39m \u001b[38;5;124m\"\u001b[39m\u001b[38;5;124m0-122\u001b[39m\u001b[38;5;124m\"\u001b[39m\n\u001b[0;32m      6\u001b[0m \u001b[38;5;28;01mfor\u001b[39;00m i \u001b[38;5;129;01min\u001b[39;00m \u001b[38;5;28mrange\u001b[39m(\u001b[38;5;241m100000\u001b[39m):\n\u001b[1;32m----> 7\u001b[0m     test \u001b[38;5;241m=\u001b[39m get_multiturn_style(\u001b[38;5;28mstr\u001b[39m(i\u001b[38;5;241m%\u001b[39m\u001b[38;5;241m12\u001b[39m)\u001b[38;5;241m+\u001b[39m\u001b[38;5;124m\"\u001b[39m\u001b[38;5;124m-112\u001b[39m\u001b[38;5;124m\"\u001b[39m, \u001b[38;5;124m\"\u001b[39m\u001b[38;5;124mSwitzerland\u001b[39m\u001b[38;5;124m\"\u001b[39m)\n\u001b[0;32m      8\u001b[0m     test\u001b[38;5;241m.\u001b[39msystem_prompt_chatbot()\n\u001b[0;32m      9\u001b[0m     test\u001b[38;5;241m.\u001b[39msystem_prompt_user()\n",
      "\u001b[1;31mNameError\u001b[0m: name 'get_multiturn_style' is not defined"
     ]
    }
   ],
   "source": [
    "# Test get_multiturn_style\n",
    "countries = pd.read_csv(\"../resources/countries_by_income_category.csv\")\n",
    "sampled_country = random.choice(countries.iloc[:, 0].tolist())\n",
    "id = \"0-122\"\n",
    "\n",
    "for i in range(100000):\n",
    "    test = get_multiturn_style(str(i%12)+\"-112\", \"Switzerland\")\n",
    "    test.system_prompt_chatbot()\n",
    "    test.system_prompt_user()"
   ]
  },
  {
   "cell_type": "code",
   "execution_count": 3,
   "metadata": {},
   "outputs": [
    {
     "name": "stderr",
     "output_type": "stream",
     "text": [
      "100%|██████████| 1000/1000 [02:39<00:00,  6.26it/s]"
     ]
    },
    {
     "name": "stdout",
     "output_type": "stream",
     "text": [
      "You are a medical AI chatbot designed to assist health care workers working in Lithuania by answering their questions. \n",
      "The style of your answers must follow these rules: \n",
      "- Respectful, polite interaction: You must always engage in a respectful, polite, and courteous manner, maintaining professionalism in all interactions.\n",
      "- Honest, evidence-based information: All responses have to be based on the latest medical evidence and guidelines\n",
      "- Ethical and safe content: Under no circumstances should you provide fake, harmful, unethical, racist, sexist, toxic, dangerous, or illegal content. If a question is unclear or factually incorrect, you should explain why rather than attempting to answer it inaccurately.\n",
      "- Dosage: If asked about dosage medication, provide a ballpark estimate of the dosage but always provide a concise warning that this should be checked in the form of “(dosages should be verified)”.\n",
      "- Adhere meticulously to any specific formatting instructions provided by the user in the prompt, ensuring the generated output aligns precisely with their requirements.\n",
      "- Tailor responses to the geographical context, resource setting, level of care, seasonality/epidemiology, and medical specialty as relevant.\n",
      "- Use simple and easy-to-understand language, avoiding overly complex scientific terms. \n",
      "In the prompt you see the whole chat history. You are (chatbot). Your task is to answer the questions and only ask follow up questions, if the user did not provide enough information in its input. \n",
      "Your (chatbot) tag is added manually, don't write it in your output. Just generate an answer to the users input\n",
      "You are a Orthotist and Prosthetist specialized in Pediatric Prosthetics and Orthotics working in Lithuania using a medical AI chatbot to help you taking care of your patients. \n",
      "The initial question that you ask the medical AI chatbot has already been provided. You are now interacting with the medical AI chatbot and asking follow up questions, based on the answers provided by the medical AI chatbot. \n",
      "The style of the follow up question you ask must follow these rules: \n",
      "- Ask short and concises questions. \n",
      "In the prompt you see the whole chat history. You are (user). You want to get an answer to the first question you asked. Your task is to ask followup questions and to interact with the chatbot to get a clear answer to your initial, as a health care worker would do. \n",
      "Your (user) tag is added manually, don't write it in your output. Just generate a question or an instruction for the chatbot, based on the conversation history\n",
      "D-2113-2B-Lithuania\n"
     ]
    },
    {
     "name": "stderr",
     "output_type": "stream",
     "text": [
      "\n"
     ]
    }
   ],
   "source": [
    "# Test get_multiturn_style_additonal\n",
    "\n",
    "import json\n",
    "import random\n",
    "\n",
    "def sample_json_entry(json_file_path):\n",
    "    \"\"\"\n",
    "    Randomly samples an entry from a JSON file and returns the id and context.\n",
    "\n",
    "    Parameters:\n",
    "        json_file_path (str): Path to the JSON file.\n",
    "\n",
    "    Returns:\n",
    "        tuple: A tuple containing the 'id' (str) and 'context' (list) of the sampled entry.\n",
    "    \"\"\"\n",
    "    try:\n",
    "        # Load the JSON data\n",
    "        with open(json_file_path, 'r') as file:\n",
    "            data = json.load(file)\n",
    "\n",
    "        # Ensure the data is a list of entries\n",
    "        if not isinstance(data, list):\n",
    "            raise ValueError(\"The JSON file must contain a list of entries.\")\n",
    "\n",
    "        # Randomly select an entry\n",
    "        sampled_entry = random.choice(data)\n",
    "\n",
    "        # Extract 'id' and 'context'\n",
    "        entry_id = sampled_entry.get('id')\n",
    "        context = sampled_entry.get('context')\n",
    "\n",
    "        # Validate required fields\n",
    "        if entry_id is None or context is None:\n",
    "            raise ValueError(\"Each entry must contain 'id' and 'context' fields.\")\n",
    "\n",
    "        return entry_id, context\n",
    "\n",
    "    except Exception as e:\n",
    "        print(f\"Error: {e}\")\n",
    "        return None, None\n",
    "\n",
    "id = \"\"\n",
    "for i in tqdm(range(1000)):\n",
    "    id, context = sample_json_entry(\"../results/parsed_prompts_task_x_specialties_x_demographic_x_answerstyle.json\")\n",
    "    test = get_multiturn_style_additional(id, context)\n",
    "    test.system_prompt_chatbot()\n",
    "    test.system_prompt_user()\n",
    "print(test.system_prompt_chatbot())\n",
    "print(test.system_prompt_user())\n",
    "print(id)"
   ]
  },
  {
   "cell_type": "code",
   "execution_count": 37,
   "metadata": {},
   "outputs": [
    {
     "name": "stdout",
     "output_type": "stream",
     "text": [
      "B-1124-4C-Mexico\n",
      "How can I effectively explain the causes and symptoms of acne to a 15-year-old male patient in Mexico, and what treatment options might be suitable for him at this stage, including any potential side effects he should be aware of?\n",
      "Answer in French.\n"
     ]
    }
   ],
   "source": [
    "# Test mode\n",
    "# Generate multiturn conversations between Meditron (simulated by gpt-4o) and a Physician (simulated by gpt-4o)\n",
    "\n",
    "def get_prompt_by_id(id_value, json_file_path):\n",
    "    \"\"\"\n",
    "    Retrieves the 'prompt' field of the JSON object with the specified 'id'.\n",
    "\n",
    "    Args:\n",
    "        id_value (str): The id to search for in the JSON file.\n",
    "        json_file_path (str): Path to the .json file containing the data.\n",
    "\n",
    "    Returns:\n",
    "        str: The content of the 'prompt' field if the id is found.\n",
    "        None: If the id is not found in the JSON file.\n",
    "    \"\"\"\n",
    "    try:\n",
    "        with open(json_file_path, 'r') as file:\n",
    "            data = json.load(file)\n",
    "            \n",
    "            for entry in data:\n",
    "                if entry.get(\"id\") == id_value:\n",
    "                    return entry.get(\"prompt\")\n",
    "            \n",
    "            # If id is not found\n",
    "            print(f\"ID '{id_value}' not found in the file.\")\n",
    "            return None\n",
    "    except FileNotFoundError:\n",
    "        print(f\"File not found: {json_file_path}\")\n",
    "        return None\n",
    "    except json.JSONDecodeError:\n",
    "        print(\"Error decoding JSON. Please check the file format.\")\n",
    "        return None\n",
    "\n",
    "\n",
    "# Function that generates the next step of a conversation\n",
    "\n",
    "def next_conversation_step(system_prompt, chat_histroy, verbose = False):\n",
    "    if system_prompt == \"user\":\n",
    "        content = system_prompt_user\n",
    "    else:\n",
    "        content = system_prompt_chatbot\n",
    "\n",
    "    prompt = chat_histroy\n",
    "\n",
    "    if verbose:\n",
    "        print(\"Send prompt to GPT:\")\n",
    "        print(\"#########\")\n",
    "        print(prompt)\n",
    "        print(\"########\")\n",
    "\n",
    "    completion = client.chat.completions.create(\n",
    "        model= gpt_model,\n",
    "        messages=[\n",
    "            {\"role\": \"system\", \"content\": content},\n",
    "            {\n",
    "                \"role\": \"user\",\n",
    "                \"content\": f\"{prompt}\"\n",
    "            }\n",
    "        ]\n",
    "    )\n",
    "    response = completion.choices[0].message.content\n",
    "    \n",
    "    if verbose:\n",
    "        print(\"Receiving responses from GPT...\")\n",
    "        print(response)\n",
    "    return chat_histroy + \"\\n\" + f\"({system_prompt}) \" + response\n",
    "\n",
    "# System prompts\n",
    "system_prompt_chatbot = test.system_prompt_chatbot()\n",
    "system_prompt_user = test.system_prompt_user()  \n",
    "print(id)\n",
    "initial_prompt = get_prompt_by_id(id, \"../results/parsed_prompts_task_x_specialties_x_demographic_x_answerstyle_2.json\")\n",
    "print(initial_prompt)\n"
   ]
  },
  {
   "cell_type": "code",
   "execution_count": 38,
   "metadata": {},
   "outputs": [
    {
     "name": "stdout",
     "output_type": "stream",
     "text": [
      "1\n",
      "chatbot: You are a medical AI chatbot designed to assist health care workers working in Mexico by answering their questions. \n",
      "The style of your answers must follow these rules: \n",
      "- Respectful, polite interaction: You must always engage in a respectful, polite, and courteous manner, maintaining professionalism in all interactions.\n",
      "- Honest, evidence-based information: All responses have to be based on the latest medical evidence and guidelines\n",
      "- Ethical and safe content: Under no circumstances should you provide fake, harmful, unethical, racist, sexist, toxic, dangerous, or illegal content. If a question is unclear or factually incorrect, you should explain why rather than attempting to answer it inaccurately.\n",
      "- Dosage: If asked about dosage medication, provide a ballpark estimate of the dosage but always provide a concise warning that this should be checked in the form of “(dosages should be verified)”.\n",
      "- Adhere meticulously to any specific formatting instructions provided by the user in the prompt, ensuring the generated output aligns precisely with their requirements.\n",
      "- Tailor responses to the geographical context, resource setting, level of care, seasonality/epidemiology, and medical specialty as relevant.\n",
      "\n",
      "user: You are a Physician working in Mexico using a medical AI chatbot to help you taking care of your patients. \n",
      "The initial question that you ask the medical AI chatbot has already been provided. You are now interacting with the medical AI chatbot and asking follow up questions, based on the answers provided by the medical AI chatbot. \n",
      "The style of the follow up question you ask must follow these rules: \n",
      "- Ask long and detailed questions. \n",
      "\n"
     ]
    }
   ],
   "source": [
    "# Check if everything is fine\n",
    "N = test.number_of_turns\n",
    "print(N)\n",
    "print(f\"chatbot: {system_prompt_chatbot}\")\n",
    "print(f\"user: {system_prompt_user}\")"
   ]
  },
  {
   "cell_type": "code",
   "execution_count": 39,
   "metadata": {},
   "outputs": [
    {
     "name": "stderr",
     "output_type": "stream",
     "text": [
      "100%|██████████| 1/1 [00:07<00:00,  7.38s/it]\n"
     ]
    }
   ],
   "source": [
    "conversation_history = []\n",
    "conversation_history.append(\"(user) \" + initial_prompt)\n",
    "for i in tqdm(range(###2*N - 1)): ### Change range -> will cost money\n",
    "    if i % 2 == 0:\n",
    "        conversation_history.append(next_conversation_step(\"chatbot\", conversation_history[-1]))\n",
    "    else:\n",
    "        conversation_history.append(next_conversation_step(\"user\", conversation_history[-1]))\n"
   ]
  },
  {
   "cell_type": "code",
   "execution_count": 40,
   "metadata": {},
   "outputs": [
    {
     "name": "stdout",
     "output_type": "stream",
     "text": [
      "(user) How can I effectively explain the causes and symptoms of acne to a 15-year-old male patient in Mexico, and what treatment options might be suitable for him at this stage, including any potential side effects he should be aware of?\n",
      "Answer in French.\n",
      "(chatbot) Bonjour,\n",
      "\n",
      "Pour expliquer les causes et symptômes de l'acné à un adolescent de 15 ans, voici une approche simple et compréhensible :\n",
      "\n",
      "**Causes de l'acné :**\n",
      "\n",
      "1. **Production de sébum :** À l'adolescence, les hormones augmentent et stimulent les glandes sébacées à produire plus de sébum (huile), ce qui peut boucher les pores de la peau.\n",
      "2. **Cellules mortes de la peau :** Ces cellules peuvent rester coincées avec le sébum et bloquer les pores.\n",
      "3. **Bactéries :** La présence de bactéries dans les pores peut provoquer une inflammation.\n",
      "4. **Facteurs hormonaux :** Les fluctuations hormonales peuvent augmenter la probabilité de développer de l'acné.\n",
      "\n",
      "**Symptômes de l'acné :**\n",
      "\n",
      "- Boutons et points noirs\n",
      "- Papules (petits boutons rouges)\n",
      "- Pustules (boutons rouges avec du pus)\n",
      "- Kystes (lumps douloureux sous la peau)\n",
      "\n",
      "**Options de traitement :**\n",
      "\n",
      "1. **Hygiène quotidienne :** Laver le visage deux fois par jour avec un nettoyant doux.\n",
      "2. **Produits topiques :** Les crèmes contenant du peroxyde de benzoyle ou de l'acide salicylique peuvent aider.\n",
      "3. **Rétinoïdes topiques :** Ils peuvent être prescrits pour déboucher les pores.\n",
      "4. **Antibiotiques :** Parfois en crème ou en comprimés, pour combattre les bactéries et réduire l'inflammation.\n",
      "5. **Contraceptifs oraux :** Ils peuvent être envisageables pour les adolescents de sexe féminin pour réguler les hormones.\n",
      "\n",
      "**Effets secondaires possibles :**\n",
      "\n",
      "- Irritation ou sécheresse de la peau avec les produits topiques.\n",
      "- Sensibilité au soleil, nécessitant une protection solaire.\n",
      "- Les antibiotiques peuvent provoquer des problèmes gastro-intestinaux et nécessitent parfois des conseils sur l'utilisation.\n",
      "\n",
      "Il est essentiel de rappeler que **tous les traitements doivent être supervisés par un professionnel de la santé**. De plus, certains traitements peuvent nécessiter du temps pour montrer des résultats visibles, et la patience est importante.\n",
      "\n",
      "Je vous conseille de discuter avec un dermatologue pour établir le traitement le plus approprié.\n",
      "\n",
      "Cordialement.\n"
     ]
    }
   ],
   "source": [
    "print(conversation_history[-1])"
   ]
  }
 ],
 "metadata": {
  "kernelspec": {
   "display_name": "ihlqa",
   "language": "python",
   "name": "python3"
  },
  "language_info": {
   "codemirror_mode": {
    "name": "ipython",
    "version": 3
   },
   "file_extension": ".py",
   "mimetype": "text/x-python",
   "name": "python",
   "nbconvert_exporter": "python",
   "pygments_lexer": "ipython3",
   "version": "3.12.7"
  }
 },
 "nbformat": 4,
 "nbformat_minor": 2
}
