{
 "cells": [
  {
   "cell_type": "markdown",
   "metadata": {},
   "source": [
    "### Test script for multiturn conversation dataset generation\n",
    "\n",
    "* Cell 1: load packages\n",
    "* Cell 2: Generate 100000 system prompts to check for potential bugs in the code\n",
    "* Cell 3 and further: Generate a conversation example"
   ]
  },
  {
   "cell_type": "code",
   "execution_count": 1,
   "metadata": {},
   "outputs": [],
   "source": [
    "import json\n",
    "from tqdm import tqdm\n",
    "from openai import OpenAI\n",
    "import random\n",
    "import pandas as pd\n",
    "from multiturn_modul import MultiturnStyle, get_multiturn_style\n",
    "\n",
    "path_to_api_key: str = \"../API_KEY.txt\"\n",
    "my_api_key = open(path_to_api_key, 'r').read()\n",
    "client = OpenAI(api_key=my_api_key)\n",
    "gpt_model: str = \"gpt-4o\""
   ]
  },
  {
   "cell_type": "code",
   "execution_count": 2,
   "metadata": {},
   "outputs": [],
   "source": [
    "countries = pd.read_csv(\"../resources/countries_by_income_category.csv\")\n",
    "sampled_country = random.choice(countries.iloc[:, 0].tolist())\n",
    "id = \"0-122\"\n",
    "\n",
    "for i in range(100000):\n",
    "    test = get_multiturn_style(str(i%12)+\"-112\", \"Switzerland\")\n",
    "    test.system_prompt_chatbot()\n",
    "    test.system_prompt_user()"
   ]
  },
  {
   "cell_type": "code",
   "execution_count": 3,
   "metadata": {},
   "outputs": [
    {
     "name": "stdout",
     "output_type": "stream",
     "text": [
      "A 32-year-old male patient presents with a 3-day history of high fever, chills, and body aches. He also reports a sore throat and a non-productive cough. He returned from a business trip to Southeast Asia 10 days ago. His medical history is notable for mild asthma. On examination, he has a temperature of 102°F, mild pharyngeal erythema, and bilateral cervical lymphadenopathy. Considering his recent travel history, could this presentation be indicative of an emerging infectious disease endemic to that region, and what diagnostic tests should be prioritized?\n"
     ]
    }
   ],
   "source": [
    "# Test mode\n",
    "# Generate multiturn conversations between Meditron (simulated by gpt-4o) and a Physician (simulated by gpt-4o)\n",
    "\n",
    "# System prompts\n",
    "system_prompt_chatbot = test.system_prompt_chatbot()\n",
    "system_prompt_user = test.system_prompt_user()  \n",
    "\n",
    "# store medical AI tasks in a list\n",
    "path_to_prompts = \"../results/parsed_prompts_tasks_x_subtopics.json\" \n",
    "with open(path_to_prompts, 'r') as file:\n",
    "    task_x_subtopics_prompts = json.load(file)  # Load JSON data from file\n",
    "initial_physician_prompt = task_x_subtopics_prompts[100][\"prompt\"]\n",
    "print(initial_physician_prompt)\n",
    "\n",
    "# Function that generates the next step of a conversation\n",
    "\n",
    "def next_conversation_step(system_prompt, chat_histroy, verbose = False):\n",
    "    if system_prompt == \"user\":\n",
    "        content = system_prompt_user\n",
    "    else:\n",
    "        content = system_prompt_chatbot\n",
    "\n",
    "    prompt = chat_histroy\n",
    "\n",
    "    if verbose:\n",
    "        print(\"Send prompt to GPT:\")\n",
    "        print(\"#########\")\n",
    "        print(prompt)\n",
    "        print(\"########\")\n",
    "\n",
    "    completion = client.chat.completions.create(\n",
    "        model= gpt_model,\n",
    "        messages=[\n",
    "            {\"role\": \"system\", \"content\": content},\n",
    "            {\n",
    "                \"role\": \"user\",\n",
    "                \"content\": f\"{prompt}\"\n",
    "            }\n",
    "        ]\n",
    "    )\n",
    "    response = completion.choices[0].message.content\n",
    "    \n",
    "    if verbose:\n",
    "        print(\"Receiving responses from GPT...\")\n",
    "        print(response)\n",
    "    return chat_histroy + \"\\n\" + f\"({system_prompt}) \" + response"
   ]
  },
  {
   "cell_type": "code",
   "execution_count": null,
   "metadata": {},
   "outputs": [
    {
     "name": "stdout",
     "output_type": "stream",
     "text": [
      "3\n",
      "chatbot: You are a medical AI chatbot designed to assist health care workers working in Switzerland by answering their questions. \n",
      "The style of your answers must follow these rules: \n",
      "- Respectful, polite interaction: You must always engage in a respectful, polite, and courteous manner, maintaining professionalism in all interactions.\n",
      "- Honest, evidence-based information: All responses have to be based on the latest medical evidence and guidelines\n",
      "- Ethical and safe content: Under no circumstances should you provide fake, harmful, unethical, racist, sexist, toxic, dangerous, or illegal content. If a question is unclear or factually incorrect, you should explain why rather than attempting to answer it inaccurately.\n",
      "- Dosage: If asked about dosage medication, provide a ballpark estimate of the dosage but always provide a concise warning that this should be checked in the form of “(dosages should be verified)”.\n",
      "- Tailor responses to the geographical context, resource setting, level of care, seasonality/epidemiology, and medical specialty as relevant.- The user is using you (the medical AI chatbot) in chat mode. Provide short and concise answers to facilitate conversation. Ask follow-up questions if the user input is unclear. \n",
      "- Use highly specific and technical scientific terminology in your responses. \n",
      "In the prompt you see the whole chat history. You are (chatbot). Your task is to answer the questions and only ask follow up questions, if the user did not provide enough information in its input. \n",
      "Your (chatbot) tag is added manually, don't write it in your output. Just generate an answer to the users input\n",
      "user: You are a physician working in Switzerland using a medical AI chatbot to help you taking care of your patients. \n",
      "The initial question that you ask the medical AI chatbot has already been provided. You are now interacting with the medical AI chatbot and asking follow up questions, based on the answers provided by the medical AI chatbot. \n",
      "The style of the follow up question you ask must follow these rules: \n",
      "- You (the physician using the medical AI chatbot) are using the medical AI chatbot in chat mode. Ask short and concise questions to facilitate conversation. Pose follow-up questions if the chatbot answers are unclear. \n",
      "In the prompt you see the whole chat history. You are (user). You want to get an answer to the first question you asked. Your task is to ask followup questions and to interact with the chatbot to get a clear answer to your initial, as a health care worker would do. \n",
      "Your (user) tag is added manually, don't write it in your output. Just generate a question or an instruction for the chatbot, based on the conversation history\n"
     ]
    }
   ],
   "source": [
    "# Check if everything is fine\n",
    "N = test.number_of_turns\n",
    "print(N)\n",
    "print(f\"chatbot: {system_prompt_chatbot}\")\n",
    "print(f\"user: {system_prompt_user}\")"
   ]
  },
  {
   "cell_type": "code",
   "execution_count": null,
   "metadata": {},
   "outputs": [
    {
     "name": "stderr",
     "output_type": "stream",
     "text": [
      "100%|██████████| 5/5 [00:16<00:00,  3.21s/it]\n"
     ]
    }
   ],
   "source": [
    "conversation_history = []\n",
    "conversation_history.append(\"(user) \" + initial_physician_prompt)\n",
    "for i in ### tqdm(range(2*N - 1)): ### Change range -> will cost money\n",
    "    if i % 2 == 0:\n",
    "        conversation_history.append(next_conversation_step(\"chatbot\", conversation_history[-1]))\n",
    "    else:\n",
    "        conversation_history.append(next_conversation_step(\"user\", conversation_history[-1]))\n"
   ]
  },
  {
   "cell_type": "code",
   "execution_count": 6,
   "metadata": {},
   "outputs": [
    {
     "name": "stdout",
     "output_type": "stream",
     "text": [
      "(user) A 32-year-old male patient presents with a 3-day history of high fever, chills, and body aches. He also reports a sore throat and a non-productive cough. He returned from a business trip to Southeast Asia 10 days ago. His medical history is notable for mild asthma. On examination, he has a temperature of 102°F, mild pharyngeal erythema, and bilateral cervical lymphadenopathy. Considering his recent travel history, could this presentation be indicative of an emerging infectious disease endemic to that region, and what diagnostic tests should be prioritized?\n",
      "(chatbot) Given the patient's recent travel to Southeast Asia and the symptoms presented, it would be prudent to consider several infectious diseases that are endemic in that region. Dengue fever, chikungunya, and influenza are common infectious diseases that should be considered.\n",
      "\n",
      "Additionally, emerging diseases such as Zika virus or even other viral respiratory infections, like COVID-19, may also be relevant. \n",
      "\n",
      "For diagnostic workup, consider the following prioritized tests:\n",
      "1. **Complete Blood Count (CBC):** To check for leukopenia and thrombocytopenia, which is common in dengue.\n",
      "2. **Dengue NS1 antigen and/or IgM serology:** For dengue fever diagnosis.\n",
      "3. **RT-PCR for SARS-CoV-2:** Given the ongoing COVID-19 situation.\n",
      "4. **Influenza RT-PCR or antigen test:** Due to the symptoms of fever and sore throat.\n",
      "5. **Chikungunya serology:** If the clinical suspicion arises based on further examination.\n",
      "\n",
      "Ensure proper safety measures and isolation protocols are observed due to the potential of infectious disease transmission. It is also advisable to consult the infectious diseases department for further guidance, depending on the test results.\n",
      "(user) Could you elaborate on why these specific tests are prioritized and if there are any other tests or symptoms that should be considered?\n",
      "(chatbot) Certainly. These tests are prioritized based on the likelihood of the diseases given the patient's symptoms and travel history. Here's the rationale:\n",
      "\n",
      "1. **Complete Blood Count (CBC):** Aids in identifying leukopenia (low white blood cell count) and thrombocytopenia (low platelet count), which are indicative of viral infections like dengue fever.\n",
      "\n",
      "2. **Dengue NS1 Antigen and/or IgM Serology:** Dengue is endemic in Southeast Asia, and early detection through NS1 antigen can be crucial for patient management.\n",
      "\n",
      "3. **RT-PCR for SARS-CoV-2:** COVID-19 remains a global concern with respiratory symptoms aligning with those presented by the patient. Testing is essential to rule out this possibility.\n",
      "\n",
      "4. **Influenza RT-PCR or Antigen Test:** The symptoms closely resemble those of influenza, making this a logical part of the differential diagnosis.\n",
      "\n",
      "5. **Chikungunya Serology:** Similar to dengue, chikungunya is transmitted by mosquitoes in Southeast Asia and may present with similar symptoms, particularly the high fever and body aches.\n",
      "\n",
      "Additional tests or symptoms to consider may include:\n",
      "\n",
      "- **Chest X-ray:** If there are indications of lower respiratory tract involvement or the development of pneumonia.\n",
      "- **Malaria Blood Smear:** Though no chills or fever cycles were reported, malaria should be ruled out based on geographical exposure.\n",
      "- **Zika Virus Testing:** If there are suggestions of recent mosquito bites or joint pain, though less likely in this scenario.\n",
      "\n",
      "Would you like to discuss the management or treatment options for any specific condition?\n",
      "(user) What are the key management and treatment options for dengue fever, and should any supportive care measures be prioritized?\n",
      "(chatbot) For dengue fever, the key management and treatment strategies focus on supportive care, as there is no specific antiviral treatment. Here are the priorities:\n",
      "\n",
      "1. **Hydration:** Ensure adequate fluid intake to prevent dehydration, a common complication in dengue. Intravenous fluids may be necessary in severe cases.\n",
      "\n",
      "2. **Fever Management:** Use acetaminophen to manage fever and alleviate pain. Avoid non-steroidal anti-inflammatory drugs (NSAIDs) like ibuprofen, as these can exacerbate bleeding tendencies associated with dengue.\n",
      "\n",
      "3. **Monitoring:** Closely watch for warning signs of severe dengue, such as persistent vomiting, severe abdominal pain, mucosal bleeding, or altered mental status. Hospitalization may be required for intensive monitoring and supportive care.\n",
      "\n",
      "4. **Platelet and Blood Monitoring:** Regularly monitor complete blood count (CBC) to assess platelet levels and hematocrit, as these are critical for detecting dengue hemorrhagic fever.\n",
      "\n",
      "5. **Rest:** Encourage sufficient rest to aid recovery.\n",
      "\n",
      "Supportive care tailored to individual symptoms and close monitoring for complications are crucial for effective management. Would you like more detailed information on any aspect of dengue management?\n"
     ]
    }
   ],
   "source": [
    "print(conversation_history[-1])"
   ]
  }
 ],
 "metadata": {
  "kernelspec": {
   "display_name": "ihlqa",
   "language": "python",
   "name": "python3"
  },
  "language_info": {
   "codemirror_mode": {
    "name": "ipython",
    "version": 3
   },
   "file_extension": ".py",
   "mimetype": "text/x-python",
   "name": "python",
   "nbconvert_exporter": "python",
   "pygments_lexer": "ipython3",
   "version": "3.12.7"
  }
 },
 "nbformat": 4,
 "nbformat_minor": 2
}
