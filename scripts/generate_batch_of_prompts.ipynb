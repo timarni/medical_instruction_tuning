{
 "cells": [
  {
   "cell_type": "markdown",
   "metadata": {},
   "source": [
    "### Create batch of prompts"
   ]
  },
  {
   "cell_type": "code",
   "execution_count": 4,
   "metadata": {},
   "outputs": [],
   "source": [
    "import json\n",
    "from tqdm import tqdm\n",
    "from multiturn_modul import MultiturnStyle, get_multiturn_style\n",
    "import pandas as pd\n",
    "import random"
   ]
  },
  {
   "cell_type": "markdown",
   "metadata": {},
   "source": [
    "#### Version 1 -> profession sepcialties x domains"
   ]
  },
  {
   "cell_type": "code",
   "execution_count": null,
   "metadata": {},
   "outputs": [],
   "source": [
    "# Create batch of prompts\n",
    "\n",
    "# Specify which model should be used to answer prompts\n",
    "gpt_model = \"gpt-4o\"\n",
    "\n",
    "# Path for input data and to store prompts\n",
    "path_medical_settings = \"../results/medical_settings.json\"\n",
    "path_medical_subtopics = \"../results/medical_subtopics.json\"\n",
    "path_medical_professions = \"../results/medical_professions.json\"\n",
    "\n",
    "output_path = \"../results/batched_prompts.jsonl\"\n",
    "\n",
    "print(\"Creating a batch of prompts\")\n",
    "print(f\"that can be processed by {gpt_model} in batch mode\")\n",
    "\n",
    "# Load data\n",
    "with open(path_medical_settings, \"r\") as f:\n",
    "    medical_settings = json.load(f)\n",
    "with open(path_medical_subtopics, \"r\") as f:\n",
    "    medical_subtopics = json.load(f)\n",
    "with open(path_medical_professions, \"r\") as f:\n",
    "    medical_professions = json.load(f)\n",
    "\n",
    "with open(output_path, 'w') as file:\n",
    "    id = 0\n",
    "    for prof_entry in tqdm(medical_professions):\n",
    "        profession = prof_entry[\"profession\"]\n",
    "        specialties = prof_entry[\"specialties\"]\n",
    "        for top_entry in medical_subtopics:\n",
    "            domain = top_entry[\"domain\"]\n",
    "            subtopics = top_entry[\"subtopic\"]\n",
    "            for specialty in specialties:\n",
    "                # for subtopic in subtopics: -> TODO: removed because gives too much prompts\n",
    "                    content = \"You are an assistant responsible for creating prompts that healthcare workers would ask a medical AI chatbot.\"\n",
    "                    prompt = f'''Generate a prompt that a {profession} specializing in {specialty} might ask an AI chatbot about the {domain} regarding a practical issue they are facing with a patient.\n",
    "                    Only include the prompt from the {profession} specializing in {specialty} about the {domain} in your response, with no additional text.'''\n",
    "                    # TODO: Maybe add some examples\n",
    "                    # TODO: Different style of prompts (here all are: practical issue they face with a patient)\n",
    "                    line = {\n",
    "                        \"custom_id\": str(id),\n",
    "                        \"method\": \"POST\",\n",
    "                        \"url\": \"/v1/chat/completions\",\n",
    "                        \"body\": {\n",
    "                            \"model\": gpt_model,\n",
    "                            \"messages\": [\n",
    "                                {\"role\": \"system\", \"content\": content},\n",
    "                                {\"role\": \"user\", \"content\": f\"{prompt}\"}\n",
    "                            ],\n",
    "                            \"max_tokens\": 150 ### TODO: can be changed... (based on some examples that where in average 105 tokens long)\n",
    "                        }\n",
    "                    }\n",
    "                    file.write(json.dumps(line) + '\\n')\n",
    "                    id += 1\n",
    "\n",
    "print(f\"batch of {id} prompts saved to {output_path}\")"
   ]
  },
  {
   "cell_type": "markdown",
   "metadata": {},
   "source": [
    "#### Version 2 -> medical_ai_tasks x subtopics"
   ]
  },
  {
   "cell_type": "code",
   "execution_count": 2,
   "metadata": {},
   "outputs": [
    {
     "name": "stdout",
     "output_type": "stream",
     "text": [
      "Creating a batch of prompts\n",
      "that can be processed by gpt-4o in batch mode\n"
     ]
    },
    {
     "name": "stderr",
     "output_type": "stream",
     "text": [
      "100%|██████████| 2/2 [00:00<00:00, 56.00it/s]"
     ]
    },
    {
     "name": "stdout",
     "output_type": "stream",
     "text": [
      "batch of <built-in function id> prompts saved to ../results/batched_prompts.jsonl\n"
     ]
    },
    {
     "name": "stderr",
     "output_type": "stream",
     "text": [
      "\n"
     ]
    }
   ],
   "source": [
    "# Create batch of prompts\n",
    "\n",
    "# Specify which model should be used to answer prompts\n",
    "gpt_model = \"gpt-4o\"\n",
    "\n",
    "# Path for input data and to store prompts\n",
    "medical_ai_tasks_file = \"../results/medical_ai_tasks_part2.json\"\n",
    "subtopics_file = \"../results/medical_subtopics.json\"\n",
    "output_path = \"../results/batched_prompts.jsonl\"\n",
    "\n",
    "\n",
    "\n",
    "# store medical AI tasks in a list\n",
    "with open(medical_ai_tasks_file, 'r') as file:\n",
    "    medical_ai_tasks = json.load(file)  # Load JSON data from file\n",
    "\n",
    "# store subtopics in a list\n",
    "with open(subtopics_file, 'r') as file:\n",
    "    subtopics_data = json.load(file)  # Load JSON data from file\n",
    "\n",
    "# Extract subtopics\n",
    "subtopics = []\n",
    "for item in subtopics_data:\n",
    "    subtopics.extend(item['subtopic'])  # Add each subtopic list to the main list\n",
    "\n",
    "# prompt and context\n",
    "content = \"You are an assistant responsible for creating prompts that healthcare workers would ask a medical AI chatbot.\"\n",
    "def get_prompt(task, description, additional_instruction, subtopic):\n",
    "    prompt = f'''Generate a prompt that a physician might ask an AI chatbot when tasked with {task} in the context of {subtopic} in the medical field.\n",
    "    {task} is described as: {description}\n",
    "    To create a realistic prompt, follow these additional instructions: {additional_instruction}\n",
    "    Only include the generated prompt, adding extra details only if specified. Focus solely on a realistic prompt a physician might ask a medical AI chatbot.'''\n",
    "    return prompt\n",
    "\n",
    "\n",
    "print(\"Creating a batch of prompts\")\n",
    "print(f\"that can be processed by {gpt_model} in batch mode\")\n",
    "\n",
    "with open(output_path, 'w') as file:\n",
    "    task_id = -1\n",
    "    for medical_ai_task in tqdm(medical_ai_tasks):\n",
    "        subtopic_id = 0\n",
    "        task_id += 1\n",
    "        for subtopic in subtopics:\n",
    "            content = content\n",
    "            prompt = get_prompt(medical_ai_task[\"task\"], medical_ai_task[\"description\"], medical_ai_task[\"additional_instruction\"], subtopic)\n",
    "            line = {\n",
    "                \"custom_id\": str(task_id) + \"-\" + str(subtopic_id),\n",
    "                \"method\": \"POST\",\n",
    "                \"url\": \"/v1/chat/completions\",\n",
    "                \"body\": {\n",
    "                    \"model\": gpt_model,\n",
    "                    \"messages\": [\n",
    "                        {\"role\": \"system\", \"content\": content},\n",
    "                        {\"role\": \"user\", \"content\": f\"{prompt}\"}\n",
    "                    ],\n",
    "                    \"max_tokens\": medical_ai_task[\"max_token\"]\n",
    "                }\n",
    "            }\n",
    "            file.write(json.dumps(line) + '\\n')\n",
    "            subtopic_id += 1\n",
    "\n",
    "print(f\"batch of {id} prompts saved to {output_path}\")"
   ]
  }
 ],
 "metadata": {
  "kernelspec": {
   "display_name": "ihlqa",
   "language": "python",
   "name": "python3"
  },
  "language_info": {
   "codemirror_mode": {
    "name": "ipython",
    "version": 3
   },
   "file_extension": ".py",
   "mimetype": "text/x-python",
   "name": "python",
   "nbconvert_exporter": "python",
   "pygments_lexer": "ipython3",
   "version": "3.12.7"
  }
 },
 "nbformat": 4,
 "nbformat_minor": 2
}
