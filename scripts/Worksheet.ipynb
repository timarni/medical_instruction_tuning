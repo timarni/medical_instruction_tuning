{
 "cells": [
  {
   "cell_type": "code",
   "execution_count": 6,
   "metadata": {},
   "outputs": [
    {
     "name": "stdout",
     "output_type": "stream",
     "text": [
      "The .jsonl file contains 20395 entries.\n"
     ]
    }
   ],
   "source": [
    "import json\n",
    "\n",
    "def count_jsonl_entries(file_path):\n",
    "    \"\"\"\n",
    "    Counts the number of entries in a .jsonl (JSON Lines) file.\n",
    "\n",
    "    :param file_path: Path to the .jsonl file\n",
    "    :return: Number of entries in the file\n",
    "    \"\"\"\n",
    "    count = 0\n",
    "    try:\n",
    "        with open(file_path, 'r', encoding='utf-8') as f:\n",
    "            for line in f:\n",
    "                if line.strip():  # Ignore empty lines\n",
    "                    count += 1\n",
    "    except FileNotFoundError:\n",
    "        print(f\"Error: The file at {file_path} does not exist.\")\n",
    "        return 0\n",
    "    except Exception as e:\n",
    "        print(f\"An error occurred: {e}\")\n",
    "        return 0\n",
    "    \n",
    "    return count\n",
    "\n",
    "\n",
    "# Example usage\n",
    "file_path = \"../results/multiturn_task_x_specialties_x_demographic_x_answerstyle.jsonl\"\n",
    "num_entries = count_jsonl_entries(file_path)\n",
    "print(f\"The .jsonl file contains {num_entries} entries.\")"
   ]
  }
 ],
 "metadata": {
  "kernelspec": {
   "display_name": "ihlqa",
   "language": "python",
   "name": "python3"
  },
  "language_info": {
   "codemirror_mode": {
    "name": "ipython",
    "version": 3
   },
   "file_extension": ".py",
   "mimetype": "text/x-python",
   "name": "python",
   "nbconvert_exporter": "python",
   "pygments_lexer": "ipython3",
   "version": "3.12.7"
  }
 },
 "nbformat": 4,
 "nbformat_minor": 2
}
