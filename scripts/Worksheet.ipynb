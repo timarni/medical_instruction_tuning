{
 "cells": [
  {
   "cell_type": "code",
   "execution_count": 4,
   "metadata": {},
   "outputs": [
    {
     "data": {
      "text/plain": [
       "11"
      ]
     },
     "execution_count": 4,
     "metadata": {},
     "output_type": "execute_result"
    }
   ],
   "source": [
    "import pandas as pd\n",
    "import json\n",
    "\n",
    "json_file_path = \"../results/medical_ai_tasks.json\"\n",
    "\n",
    "# Load JSON data from file\n",
    "with open(json_file_path, 'r', encoding='utf-8') as f:\n",
    "    data = json.load(f)\n",
    "\n",
    "len(data)"
   ]
  },
  {
   "cell_type": "code",
   "execution_count": 1,
   "metadata": {},
   "outputs": [
    {
     "ename": "ModuleNotFoundError",
     "evalue": "No module named 'sentence_transformers'",
     "output_type": "error",
     "traceback": [
      "\u001b[1;31m---------------------------------------------------------------------------\u001b[0m",
      "\u001b[1;31mModuleNotFoundError\u001b[0m                       Traceback (most recent call last)",
      "Cell \u001b[1;32mIn[1], line 6\u001b[0m\n\u001b[0;32m      4\u001b[0m \u001b[38;5;28;01mimport\u001b[39;00m \u001b[38;5;21;01mos\u001b[39;00m\n\u001b[0;32m      5\u001b[0m \u001b[38;5;28;01mimport\u001b[39;00m \u001b[38;5;21;01mjson\u001b[39;00m\n\u001b[1;32m----> 6\u001b[0m \u001b[38;5;28;01mfrom\u001b[39;00m \u001b[38;5;21;01msentence_transformers\u001b[39;00m \u001b[38;5;28;01mimport\u001b[39;00m SentenceTransformer\n\u001b[0;32m      7\u001b[0m \u001b[38;5;28;01mimport\u001b[39;00m \u001b[38;5;21;01mumap\u001b[39;00m\n\u001b[0;32m      8\u001b[0m \u001b[38;5;28;01mimport\u001b[39;00m \u001b[38;5;21;01mhdbscan\u001b[39;00m\n",
      "\u001b[1;31mModuleNotFoundError\u001b[0m: No module named 'sentence_transformers'"
     ]
    }
   ],
   "source": [
    "# Script to convert prompts into embeddings and cluster them\n",
    "# Script from Bastien\n",
    "\n",
    "import os\n",
    "import json\n",
    "from sentence_transformers import SentenceTransformer\n",
    "import umap\n",
    "import hdbscan\n",
    "import numpy as np\n",
    "data = []\n",
    "\n",
    "name_of_prompts = \"task_x_subtopics\"\n",
    "path_to_prompts = \"../results/parsed_prompts_\" + name_of_prompts + \".json\"\n",
    "path_to_embeddings = \"../clustering/embeddings_pp_\" + name_of_prompts + \".npy\"\n",
    "\n",
    "# Control test mode\n",
    "test_mode = True  # Set to False to load all data\n",
    "\n",
    "# Load prompts\n",
    "with open(path_to_prompts, 'r') as f:\n",
    "    for i, line in enumerate(f):\n",
    "        if test_mode and i >= 5:  # Only load first 5 entries in test mode\n",
    "            break\n",
    "        data.append(json.loads(line))\n",
    "\n",
    "questions = []\n",
    "for d in data:\n",
    "    questions.append(d['prompt'])\n",
    "\n",
    "\n",
    "if os.path.exists(path_to_embeddings):\n",
    "    with open(path_to_embeddings, 'rb') as f:\n",
    "        embeddings = np.load(f)\n",
    "else:\n",
    "    embedder = SentenceTransformer('all-MiniLM-L6-v2')\n",
    "    embeddings = embedder.encode(questions, show_progress_bar=True)\n",
    "\n",
    "    with open(path_to_embeddings, 'wb') as f:\n",
    "        np.save(f, embeddings)\n",
    "\n",
    "# Reduce dimensionality to 5 or 10 dimensions\n",
    "umap_reducer = umap.UMAP(n_components=5, random_state=42)\n",
    "reduced_embeddings = umap_reducer.fit_transform(embeddings)\n",
    "\n",
    "clusterer = hdbscan.HDBSCAN(min_cluster_size=5, min_samples=1, metric='euclidean')\n",
    "cluster_labels = clusterer.fit_predict(reduced_embeddings)\n",
    "\n",
    "# Print the clusters and their associated sentences\n",
    "num_clusters = len(set(cluster_labels)) - (1 if -1 in cluster_labels else 0)  # Exclude noise label (-1)\n",
    "print(f\"Number of clusters found: {num_clusters}\")\n",
    "\n",
    "print(\"I found that the users often ask about the same thing, I don't know what to do with this information, maybe we only use one question per cluster ? We'll see, but first interesting thing to note\")\n",
    "# Print sentences grouped by clusters\n",
    "for cluster in range(num_clusters):\n",
    "    # Find indices of elements belonging to the current cluster\n",
    "    cluster_indices = [i for i, label in enumerate(cluster_labels) if label == cluster]\n",
    "    \n",
    "    # Only print out small clusters\n",
    "    if len(cluster_indices) <= 4:\n",
    "        print(f\"Cluster {cluster} (size: {len(cluster_indices)}):\")\n",
    "        for i in cluster_indices:\n",
    "            print(f\" - {questions[i]}\")\n",
    "\n",
    "import matplotlib.pyplot as plt\n",
    "\n",
    "# Reduce to 2D for visualization\n",
    "umap_2d = umap.UMAP(n_components=2, random_state=42)\n",
    "embedding_2d = umap_2d.fit_transform(embeddings)\n",
    "\n",
    "# Plot clusters\n",
    "plt.figure(figsize=(10, 8))\n",
    "plt.scatter(embedding_2d[:, 0], embedding_2d[:, 1], c=cluster_labels, cmap='Spectral', s=50)\n",
    "plt.colorbar()\n",
    "plt.title(\"Sentence Clusters based on Sentence Embeddings (I haven't found this useful honestly)\")\n",
    "plt.show()"
   ]
  }
 ],
 "metadata": {
  "kernelspec": {
   "display_name": "ihlqa",
   "language": "python",
   "name": "python3"
  },
  "language_info": {
   "codemirror_mode": {
    "name": "ipython",
    "version": 3
   },
   "file_extension": ".py",
   "mimetype": "text/x-python",
   "name": "python",
   "nbconvert_exporter": "python",
   "pygments_lexer": "ipython3",
   "version": "3.12.7"
  }
 },
 "nbformat": 4,
 "nbformat_minor": 2
}
