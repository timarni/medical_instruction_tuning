{
 "cells": [
  {
   "cell_type": "markdown",
   "metadata": {},
   "source": [
    "### Part 3 -> medical_ai_tasks x specialties x demographics"
   ]
  },
  {
   "cell_type": "code",
   "execution_count": 1,
   "metadata": {},
   "outputs": [],
   "source": [
    "import json\n",
    "from tqdm import tqdm\n",
    "from multiturn_modul import MultiturnStyle, get_multiturn_style\n",
    "import pandas as pd\n",
    "import random\n",
    "import helper"
   ]
  },
  {
   "cell_type": "code",
   "execution_count": 2,
   "metadata": {},
   "outputs": [],
   "source": [
    "# Create batch of prompts\n",
    "\n",
    "# Specify which model should be used to answer prompts\n",
    "gpt_model = \"gpt-4o\"\n",
    "\n",
    "# Path for input data and to store prompts\n",
    "medical_ai_tasks_file = \"../resources/medical_ai_tasks.json\"\n",
    "medical_professions_file = \"../resources/patient_age_medical_profession.json\"\n",
    "medical_topics_file = \"../resources/medical_topics.json\"\n",
    "age_ranges_file = \"../resources/age_categories.json\"\n",
    "sex_and_gender_file = \"../resources/sex_and_gender.json\"\n",
    "countries_file = \"../resources/countries_by_income_category.csv\"\n",
    "output_path = \"../results/batched_prompts_task_x_specialties_x_demographic.jsonl\"\n",
    "\n",
    "# store medical AI tasks in a list\n",
    "with open(medical_ai_tasks_file, 'r') as file:\n",
    "    medical_ai_tasks = json.load(file)  # Load JSON data from file\n",
    "\n",
    "# store specialties in a list\n",
    "with open(medical_professions_file, 'r') as file:\n",
    "    professions_data = json.load(file)  # Load JSON data from file  \n",
    "\n",
    "# store specialties in a list\n",
    "with open(medical_topics_file, 'r') as file:\n",
    "    topics_data = json.load(file)  # Load JSON data from file  \n",
    "\n",
    "# store age ranges in a list\n",
    "with open(age_ranges_file, 'r') as file:\n",
    "    age_categories = json.load(file)  # Load JSON data from file\n",
    "\n",
    "# store sex and gender in a list\n",
    "with open(sex_and_gender_file, 'r') as file:\n",
    "    sex_and_gender = json.load(file)  # Load JSON data from file\n",
    "\n",
    "countries_df = pd.read_csv(countries_file)"
   ]
  },
  {
   "cell_type": "code",
   "execution_count": 4,
   "metadata": {},
   "outputs": [
    {
     "name": "stdout",
     "output_type": "stream",
     "text": [
      "Creating a batch of prompts\n",
      "that can be processed by gpt-4o in batch mode\n"
     ]
    },
    {
     "name": "stderr",
     "output_type": "stream",
     "text": [
      "100%|██████████| 13/13 [00:03<00:00,  3.91it/s]"
     ]
    },
    {
     "name": "stdout",
     "output_type": "stream",
     "text": [
      "batch of 2587 prompts saved to ../results/batched_prompts_task_x_specialties_x_demographic.jsonl\n"
     ]
    },
    {
     "name": "stderr",
     "output_type": "stream",
     "text": [
      "\n"
     ]
    }
   ],
   "source": [
    "print(\"Creating a batch of prompts\")\n",
    "print(f\"that can be processed by {gpt_model} in batch mode\")\n",
    "\n",
    "content = \"You are an assistant responsible for creating prompts that healthcare workers would ask a medical AI chatbot.\"\n",
    "nbr_of_questions_per_category = 1\n",
    "id = 0\n",
    "with open(output_path, 'w') as file:\n",
    "    for medical_ai_task in tqdm(medical_ai_tasks):\n",
    "        task = medical_ai_task[\"task\"]\n",
    "        description = medical_ai_task[\"description\"]\n",
    "        add_instruction = medical_ai_task[\"additional_instruction\"]\n",
    "        for profession in professions_data:\n",
    "            main_profession = profession[\"profession\"]\n",
    "            for specialty in profession[\"specialties\"]:\n",
    "                demographics = helper.get_demographics(countries_df=countries_df, age_categories=age_categories,\n",
    "                                                       sex_and_gender=sex_and_gender, nbr_samples=nbr_of_questions_per_category,\n",
    "                                                       possible_ages=specialty[1], specialty=specialty[0])\n",
    "                prompt = helper.get_prompt(nbr_of_questions=nbr_of_questions_per_category, task=task, description=description,\n",
    "                                           additional_instruction=add_instruction, demographics=demographics, profession=main_profession,\n",
    "                                           specialty=specialty[0])\n",
    "                countries_used = \",\".join([dict[\"country\"] for dict in demographics])\n",
    "                prompt_id = str(id) + \"-\" + countries_used\n",
    "                line = helper.fill_line(prompt_id=prompt_id, gpt_model=gpt_model, content=content,\n",
    "                                        prompt=prompt, max_tokens=nbr_of_questions_per_category*500)\n",
    "                file.write(json.dumps(line) + '\\n')\n",
    "                id += 1\n",
    "        for profession in professions_data:\n",
    "            demographics = helper.get_demographics(countries_df=countries_df, age_categories=age_categories,\n",
    "                                                    sex_and_gender=sex_and_gender, nbr_samples=nbr_of_questions_per_category)\n",
    "            prompt = helper.get_prompt(nbr_of_questions=nbr_of_questions_per_category, task=task, description=description,\n",
    "                                       additional_instruction=add_instruction, demographics=demographics, profession=profession)\n",
    "            countries_used = \",\".join([dict[\"country\"] for dict in demographics])\n",
    "            prompt_id = str(id) + \"-\" + countries_used\n",
    "            line = helper.fill_line(prompt_id=prompt_id, gpt_model=gpt_model, content=content,\n",
    "                                    prompt=prompt, max_tokens=nbr_of_questions_per_category*500)\n",
    "            file.write(json.dumps(line) + '\\n')\n",
    "            id += 1\n",
    "        for topic in topics_data:\n",
    "            demographics = helper.get_demographics(countries_df=countries_df, age_categories=age_categories,\n",
    "                                                    sex_and_gender=sex_and_gender, nbr_samples=nbr_of_questions_per_category,\n",
    "                                                    medical_topic=topic)\n",
    "            prompt = helper.get_prompt(nbr_of_questions=nbr_of_questions_per_category, task=task, description=description,\n",
    "                                       additional_instruction=add_instruction, demographics=demographics, topic=topic)\n",
    "            countries_used = \",\".join([dict[\"country\"] for dict in demographics])\n",
    "            prompt_id = str(id) + \"-\" + countries_used\n",
    "            line = helper.fill_line(prompt_id=prompt_id, gpt_model=gpt_model, content=content,\n",
    "                                    prompt=prompt, max_tokens=nbr_of_questions_per_category*500)\n",
    "            file.write(json.dumps(line) + '\\n')\n",
    "            id += 1\n",
    "\n",
    "print(f\"batch of {id} prompts saved to {output_path}\")"
   ]
  }
 ],
 "metadata": {
  "kernelspec": {
   "display_name": "ihlqa",
   "language": "python",
   "name": "python3"
  },
  "language_info": {
   "codemirror_mode": {
    "name": "ipython",
    "version": 3
   },
   "file_extension": ".py",
   "mimetype": "text/x-python",
   "name": "python",
   "nbconvert_exporter": "python",
   "pygments_lexer": "ipython3",
   "version": "3.12.7"
  }
 },
 "nbformat": 4,
 "nbformat_minor": 2
}
