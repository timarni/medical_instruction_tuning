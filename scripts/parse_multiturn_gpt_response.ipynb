{
 "cells": [
  {
   "cell_type": "markdown",
   "metadata": {},
   "source": [
    "### Parse gpt responses for multiturn chat"
   ]
  },
  {
   "cell_type": "code",
   "execution_count": 10,
   "metadata": {},
   "outputs": [],
   "source": [
    "import json\n",
    "from tqdm import tqdm"
   ]
  },
  {
   "cell_type": "code",
   "execution_count": 11,
   "metadata": {},
   "outputs": [],
   "source": [
    "# Function to get the initial prompt\n",
    "\n",
    "def build_chat_history(response, current_history, gpt_simpulated):\n",
    "    current_history.append({\"role\": gpt_simpulated, \"value\": response})\n",
    "    return current_history\n",
    "\n",
    "# Function to parse the string and create a JSON object\n",
    "def parse_gpt_response(response, id, current_history, gpt_simulated):\n",
    "    \"\"\"\n",
    "    Helper function fur parse_results()\n",
    "    Parses the gpt responses from string to dict\n",
    "    \"\"\"\n",
    "    try:\n",
    "        # Decode any UTF-8 character codes in the input string\n",
    "        decoded_response = (response.encode().decode('unicode_escape')).encode('latin1').decode('utf-8')\n",
    "        chat_history = build_chat_history(decoded_response, current_history, gpt_simulated)\n",
    "        line = {\n",
    "            \"id\": id,\n",
    "            \"conversation\": chat_history\n",
    "        }\n",
    "        return line\n",
    "\n",
    "    except json.JSONDecodeError as e:\n",
    "        return None"
   ]
  },
  {
   "cell_type": "code",
   "execution_count": 15,
   "metadata": {},
   "outputs": [
    {
     "name": "stdout",
     "output_type": "stream",
     "text": [
      "Parsing GPT responses...\n"
     ]
    },
    {
     "name": "stderr",
     "output_type": "stream",
     "text": [
      "29it [00:00, 2779.14it/s]"
     ]
    },
    {
     "name": "stdout",
     "output_type": "stream",
     "text": [
      "Parsing completed\n",
      "Medical prompts have been saved to ../results/multiturn_specialty_x_domain.jsonl\n",
      "See an example below:\n",
      "{\n",
      "    \"id\": \"20-99\",\n",
      "    \"conversation\": [\n",
      "        {\n",
      "            \"role\": \"user\",\n",
      "            \"value\": \"\\\"What are the latest advancements in immunotherapy for treating metastatic melanoma, and how might individual variations in immune response affect treatment efficacy?\\\"\"\n",
      "        },\n",
      "        {\n",
      "            \"role\": \"chatbot\",\n",
      "            \"value\": \"Recent advancements in immunotherapy for metastatic melanoma include the development of combination therapies that use checkpoint inhibitors like nivolumab and ipilimumab to enhance immune responses against melanoma cells. Additionally, personalized treatment approaches, such as tumor-infiltrating lymphocyte (TIL) therapy and cancer vaccines, are being explored to tailor treatments based on individual patient's tumor characteristics.\\n\\nIndividual variations in immune response can significantly affect treatment efficacy. Factors like genetic differences, the tumor microenvironment, and previous treatments can influence how well a patient responds to immunotherapy. Understanding these variations can help in optimizing and personalizing treatment plans for better outcomes. Are you interested in a specific aspect of these treatments?\"\n",
      "        },\n",
      "        {\n",
      "            \"role\": \"user\",\n",
      "            \"value\": \"Can you provide more details on how genetic differences impact the effectiveness of immunotherapy for metastatic melanoma?\"\n",
      "        },\n",
      "        {\n",
      "            \"role\": \"chatbot\",\n",
      "            \"value\": \"Genetic differences can impact immunotherapy effectiveness in several ways. Specific genetic mutations, such as those in the BRAF or NRAS genes, might influence a tumor's susceptibility to immune attacks. Additionally, variations in HLA genes can affect antigen presentation, altering immune recognition. Other genetic factors can impact the expression of checkpoint proteins like PD-1 and CTLA-4, potentially altering responses to checkpoint inhibitors. Identifying these genetic variations is crucial for tailoring immunotherapy treatments to maximize efficacy. Is there a particular genetic aspect you are curious about?\"\n",
      "        },\n",
      "        {\n",
      "            \"role\": \"user\",\n",
      "            \"value\": \"What role do BRAF and NRAS mutations play in patient response to immunotherapy treatments?\"\n",
      "        },\n",
      "        {\n",
      "            \"role\": \"chatbot\",\n",
      "            \"value\": \"BRAF mutations, especially the V600E variant, often lead to rapid tumor growth but might also make tumors more recognizable to the immune system following targeted therapy. Patients with BRAF mutations may benefit from combined treatments using BRAF inhibitors and immunotherapy, potentially enhancing the immune response. NRAS mutations, on the other hand, are associated with varied responses to immunotherapy; they don't have direct targeted treatments like BRAF mutations do. However, they might influence the tumor microenvironment and immune landscape, affecting how well immunotherapy works. Determining a patient's specific mutation status helps in optimizing and selecting the best treatment approach. Do you need more information on testing for these mutations?\"\n",
      "        }\n",
      "    ]\n",
      "}\n",
      "Failed to parse 0 questions:\n",
      "[]\n"
     ]
    },
    {
     "name": "stderr",
     "output_type": "stream",
     "text": [
      "\n"
     ]
    }
   ],
   "source": [
    "# Desired output format (.jsonl) -> id will be removed later\n",
    "# {\"id\": \"1\", \"conversation\": [{\"role\": \"user\", \"value\": \"Hello!\"}, {\"role\": \"assistant\", \"value\": \"Hi, how can I help you today?\"}, {\"role\": \"user\", \"Value\": \"I need assistance with my account.\"}]}\n",
    "\n",
    "situations_name = \"specialty_x_domain\"\n",
    "path_to_results = \"../results/gpt_results.jsonl\"\n",
    "gpt_simulated = \"chatbot\" ### Always ajust that\n",
    "multiturn_path = \"../results/multiturn_\" + situations_name + \".jsonl\"\n",
    "\n",
    "# Read in the conversation we have so far and store them in a dict\n",
    "multiturn_conv = {}\n",
    "with open(multiturn_path, 'r') as file:\n",
    "    for i, line in enumerate(file):\n",
    "        line_as_json = json.loads(line)\n",
    "        multiturn_conv[line_as_json[\"id\"]] = line_as_json[\"conversation\"]\n",
    "\n",
    "# Extract content from json\n",
    "print(\"Parsing GPT responses...\")\n",
    "questions_failed_to_parse = []\n",
    "with open(path_to_results, 'r') as file:\n",
    "    for line in tqdm(file):\n",
    "        try:\n",
    "            data = json.loads(line)  # Parse each line as JSON\n",
    "            response_content = data.get(\"response\", {}).get(\"body\", {}).get(\"choices\", [])[0].get(\"message\", {}).get(\"content\", None)\n",
    "            id = data.get(\"custom_id\") # format \"0-0\" \"task_id - subtopic_id\"\n",
    "            if response_content and id:\n",
    "                parsed_response = parse_gpt_response(response=response_content, id=id, current_history=multiturn_conv.get(id, []), gpt_simulated=gpt_simulated)\n",
    "                if bool(parsed_response):\n",
    "                    multiturn_conv[id] = parsed_response[\"conversation\"]\n",
    "                else:\n",
    "                    questions_failed_to_parse.append(id)\n",
    "        except json.JSONDecodeError as e:\n",
    "            questions_failed_to_parse.append(id)\n",
    "print(\"Parsing completed\")\n",
    "\n",
    "# Save to JSON file\n",
    "with open(multiturn_path, 'w') as jsonl_file:\n",
    "    for id, conv in multiturn_conv.items():\n",
    "        jsonl_file.write(json.dumps({\"id\": id, \"conversation\": conv}) + '\\n')\n",
    "\n",
    "# Output the parsed data (for verification)\n",
    "print(f\"Medical prompts have been saved to {multiturn_path}\")\n",
    "print(\"See an example below:\")\n",
    "print(json.dumps(parsed_response, indent=4))\n",
    "print(f\"Failed to parse {len(questions_failed_to_parse)} questions:\")\n",
    "print(questions_failed_to_parse)"
   ]
  }
 ],
 "metadata": {
  "kernelspec": {
   "display_name": "ihlqa",
   "language": "python",
   "name": "python3"
  },
  "language_info": {
   "codemirror_mode": {
    "name": "ipython",
    "version": 3
   },
   "file_extension": ".py",
   "mimetype": "text/x-python",
   "name": "python",
   "nbconvert_exporter": "python",
   "pygments_lexer": "ipython3",
   "version": "3.12.7"
  }
 },
 "nbformat": 4,
 "nbformat_minor": 2
}
